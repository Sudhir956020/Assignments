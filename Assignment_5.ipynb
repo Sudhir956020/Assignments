{
 "cells": [
  {
   "cell_type": "markdown",
   "id": "aa38723c",
   "metadata": {},
   "source": [
    "1. What does an empty dictionary&#39;s code look like?"
   ]
  },
  {
   "cell_type": "markdown",
   "id": "257f2d1f",
   "metadata": {},
   "source": [
    "An empty dictionary in Python is defined using curly braces {} with no key-value pairs inside. Here's what an empty dictionary's code looks like:\n",
    "\n"
   ]
  },
  {
   "cell_type": "code",
   "execution_count": 1,
   "id": "19040911",
   "metadata": {},
   "outputs": [],
   "source": [
    "empty_dict = {}\n"
   ]
  },
  {
   "cell_type": "markdown",
   "id": "bcb1b30c",
   "metadata": {},
   "source": [
    "In this example, empty_dict is an empty dictionary that doesn't contain any key-value pairs. An empty dictionary is essentially a dictionary with no elements, and you can add key-value pairs to it later as needed.\n",
    "\n",
    "You can also create an empty dictionary using the dict() constructor without any arguments:"
   ]
  },
  {
   "cell_type": "code",
   "execution_count": 2,
   "id": "587b007a",
   "metadata": {},
   "outputs": [],
   "source": [
    "empty_dict = dict()\n"
   ]
  },
  {
   "cell_type": "raw",
   "id": "8075afdb",
   "metadata": {},
   "source": [
    "Both of these ways are equivalent and will create an empty dictionary. Once the dictionary is created, you can add, modify, or remove key-value pairs using the appropriate dictionary methods and syntax."
   ]
  },
  {
   "cell_type": "markdown",
   "id": "de3fad40",
   "metadata": {},
   "source": [
    "2. What is the value of a dictionary value with the key &#39;foo&#39; and the value 42?"
   ]
  },
  {
   "cell_type": "markdown",
   "id": "0afadec9",
   "metadata": {},
   "source": [
    "The value of a dictionary with the key 'foo' and the value 42 can be represented in Python using the following syntax:"
   ]
  },
  {
   "cell_type": "code",
   "execution_count": 3,
   "id": "1f16d8e7",
   "metadata": {},
   "outputs": [],
   "source": [
    "my_dict = {'foo': 42}\n"
   ]
  },
  {
   "cell_type": "markdown",
   "id": "6ba3c915",
   "metadata": {},
   "source": [
    "In this example, my_dict is a dictionary containing a single key-value pair. The key is 'foo', and the corresponding value is 42. The value 42 is associated with the key 'foo' in the dictionary."
   ]
  },
  {
   "cell_type": "code",
   "execution_count": null,
   "id": "29b411fa",
   "metadata": {},
   "outputs": [],
   "source": [
    "You can access the value associated with the key 'foo' using dictionary indexing:"
   ]
  },
  {
   "cell_type": "code",
   "execution_count": 4,
   "id": "129f1906",
   "metadata": {},
   "outputs": [
    {
     "name": "stdout",
     "output_type": "stream",
     "text": [
      "42\n"
     ]
    }
   ],
   "source": [
    "print(my_dict['foo'])  # Output: 42\n"
   ]
  },
  {
   "cell_type": "markdown",
   "id": "d4134856",
   "metadata": {},
   "source": [
    "In this code snippet, my_dict['foo'] retrieves the value 42 from the dictionary my_dict, using the key 'foo' as the index."
   ]
  },
  {
   "cell_type": "code",
   "execution_count": null,
   "id": "3681ea97",
   "metadata": {},
   "outputs": [],
   "source": [
    "3. What is the most significant distinction between a dictionary and a list?"
   ]
  },
  {
   "cell_type": "markdown",
   "id": "02b28c4a",
   "metadata": {},
   "source": [
    "The most significant distinction between a dictionary and a list in Python is the way they store and access data:\n",
    "\n",
    "Storage and Access:\n",
    "Lists: Lists are ordered collections of elements, and the elements are accessed using integer indices. Each element in a list is associated with a numerical index, starting from 0 for the first element, 1 for the second element, and so on. Lists are useful for storing a sequence of items that you want to access by their position in the list.\n",
    "Dictionaries: Dictionaries are unordered collections of key-value pairs. Instead of integer indices, elements in a dictionary are accessed using keys. Each element in a dictionary is associated with a unique key, and you can use this key to retrieve the corresponding value. Dictionaries are suitable for storing data that you want to access based on meaningful and descriptive keys."
   ]
  },
  {
   "cell_type": "code",
   "execution_count": 5,
   "id": "06b5051b",
   "metadata": {},
   "outputs": [
    {
     "name": "stdout",
     "output_type": "stream",
     "text": [
      "2\n",
      "30\n"
     ]
    }
   ],
   "source": [
    "# List\n",
    "my_list = [1, 2, 3]\n",
    "second_element = my_list[1]  # Accessing the second element with index 1\n",
    "print(second_element)  # Output: 2\n",
    "\n",
    "# Dictionary\n",
    "my_dict = {'name': 'John', 'age': 30, 'city': 'New York'}\n",
    "age_value = my_dict['age']  # Accessing the value associated with the key 'age'\n",
    "print(age_value)  # Output: 30\n"
   ]
  },
  {
   "cell_type": "markdown",
   "id": "f550ffa3",
   "metadata": {},
   "source": [
    "In the list example, we use integer indexing to access the second element with index 1. In the dictionary example, we use the key 'age' to access the value 30.\n",
    "\n",
    "In summary, the main distinction between a dictionary and a list is the way they organize and access data. Lists use integer indices for ordered access, while dictionaries use meaningful keys for unordered access based on key-value associations."
   ]
  },
  {
   "cell_type": "markdown",
   "id": "a121c71f",
   "metadata": {},
   "source": [
    "4. What happens if you try to access spam[&#39;foo&#39;] if spam is {&#39;bar&#39;: 100}?"
   ]
  },
  {
   "cell_type": "markdown",
   "id": "5a6c107d",
   "metadata": {},
   "source": [
    "If you try to access spam['foo'] when spam is {'bar': 100}, a KeyError will be raised. The reason for this is that spam is a dictionary, and dictionary keys are case-sensitive. In this case, there is no key 'foo' in the dictionary spam, so attempting to access it will result in a KeyError."
   ]
  },
  {
   "cell_type": "markdown",
   "id": "c82d86ea",
   "metadata": {},
   "source": [
    "5. If a dictionary is stored in spam, what is the difference between the expressions &#39;cat&#39; in spam and\n",
    "&#39;cat&#39; in spam.keys()?"
   ]
  },
  {
   "cell_type": "markdown",
   "id": "4fc52f21",
   "metadata": {},
   "source": [
    "\n",
    "If a dictionary is stored in spam, the expressions 'cat' in spam and 'cat' in spam.keys() are equivalent and will yield the same result. Both expressions are used to check whether the key 'cat' exists in the dictionary spam.\n",
    "\n",
    "Here's a brief explanation of each expression:\n",
    "\n",
    "'cat' in spam:\n",
    "This expression checks if the key 'cat' is present in the dictionary spam. It returns a Boolean value True if the key is found and False if it is not found.\n",
    "\n",
    "'cat' in spam.keys():\n",
    "This expression first retrieves all the keys from the dictionary spam using the keys() method, and then it checks if the key 'cat' is present in the resulting set of keys. It also returns a Boolean value True if the key is found and False if it is not found.\n",
    "\n",
    "Since the keys() method returns a set-like view of the dictionary's keys, the second expression implicitly performs the same check as the first one."
   ]
  },
  {
   "cell_type": "code",
   "execution_count": 6,
   "id": "31c8eb22",
   "metadata": {},
   "outputs": [
    {
     "name": "stdout",
     "output_type": "stream",
     "text": [
      "True\n",
      "True\n"
     ]
    }
   ],
   "source": [
    "spam = {'cat': 5, 'dog': 10, 'bird': 2}\n",
    "\n",
    "# Using 'in' directly on the dictionary\n",
    "print('cat' in spam)          # Output: True\n",
    "\n",
    "# Using 'in' on the keys() method\n",
    "print('cat' in spam.keys())   # Output: True\n"
   ]
  },
  {
   "cell_type": "markdown",
   "id": "cf10a0fb",
   "metadata": {},
   "source": [
    "In this example, both expressions 'cat' in spam and 'cat' in spam.keys() return True because the key 'cat' exists in the dictionary spam. Similarly, if the key 'cat' were not present in the dictionary, both expressions would return False."
   ]
  },
  {
   "cell_type": "markdown",
   "id": "db64582d",
   "metadata": {},
   "source": [
    "6. If a dictionary is stored in spam, what is the difference between the expressions &#39;cat&#39; in spam and\n",
    "&#39;cat&#39; in spam.values()?"
   ]
  },
  {
   "cell_type": "markdown",
   "id": "9c129121",
   "metadata": {},
   "source": [
    "If a dictionary is stored in spam, the expressions 'cat' in spam and 'cat' in spam.values() are used to check different things:\n",
    "\n",
    "'cat' in spam:\n",
    "This expression checks if the key 'cat' is present in the keys of the dictionary spam. It returns a Boolean value True if the key is found in the dictionary's keys and False otherwise.\n",
    "\n",
    "'cat' in spam.values():\n",
    "This expression checks if the value 'cat' is present in the values of the dictionary spam. It returns a Boolean value True if the value is found in the dictionary's values and False otherwise.\n",
    "\n",
    "Let's see an example to illustrate the difference between the two expressions:"
   ]
  },
  {
   "cell_type": "code",
   "execution_count": 7,
   "id": "d463186d",
   "metadata": {},
   "outputs": [
    {
     "name": "stdout",
     "output_type": "stream",
     "text": [
      "False\n",
      "True\n"
     ]
    }
   ],
   "source": [
    "spam = {'animal1': 'dog', 'animal2': 'cat', 'animal3': 'bird'}\n",
    "\n",
    "# Check if 'cat' is a key in the dictionary\n",
    "print('cat' in spam)                # Output: False\n",
    "\n",
    "# Check if 'cat' is a value in the dictionary\n",
    "print('cat' in spam.values())       # Output: True\n"
   ]
  },
  {
   "cell_type": "markdown",
   "id": "40236013",
   "metadata": {},
   "source": [
    "In this example, 'cat' in spam returns False because there is no key with the value 'cat' in the keys of the dictionary spam. On the other hand, 'cat' in spam.values() returns True because the value 'cat' is present as one of the values in the dictionary.\n",
    "\n",
    "To summarize:\n",
    "\n",
    "'cat' in spam checks if 'cat' is a key in the dictionary spam.\n",
    "'cat' in spam.values() checks if 'cat' is a value in the dictionary spam."
   ]
  },
  {
   "cell_type": "markdown",
   "id": "ea90eb50",
   "metadata": {},
   "source": [
    "7. What is a shortcut for the following code?\n",
    "if &#39;color&#39; not in spam:\n",
    "spam[&#39;color&#39;] = &#39;black&#39;"
   ]
  },
  {
   "cell_type": "markdown",
   "id": "64058f78",
   "metadata": {},
   "source": [
    "The shortcut for the given code is to use the setdefault() method. The setdefault() method allows you to insert a key-value pair into a dictionary if the key does not already exist. If the key is present, it returns the value associated with the key. If the key is not present, it sets the key with the provided default value and returns the default value.\n",
    "\n",
    "Using setdefault(), you can achieve the same functionality in a more concise way. Here's how the shortcut code looks:\n",
    "\n"
   ]
  },
  {
   "cell_type": "code",
   "execution_count": null,
   "id": "3b300969",
   "metadata": {},
   "outputs": [],
   "source": [
    "spam.setdefault('color', 'black')\n"
   ]
  },
  {
   "cell_type": "markdown",
   "id": "b6e4d24c",
   "metadata": {},
   "source": [
    "In this line of code, if the key 'color' is not already in the spam dictionary, 'color': 'black' will be added as a new key-value pair. If 'color' is already present, the method will not modify the dictionary, and it will return the existing value associated with the key.\n",
    "\n",
    "This is a cleaner and shorter way to add a key-value pair to a dictionary if the key is not already present, reducing the need for an explicit if statement."
   ]
  },
  {
   "cell_type": "markdown",
   "id": "27d0e241",
   "metadata": {},
   "source": [
    "8. How do you &quot;pretty print&quot; dictionary values using which module and function?"
   ]
  },
  {
   "cell_type": "markdown",
   "id": "b799c5de",
   "metadata": {},
   "source": [
    "To \"pretty print\" dictionary values in Python, you can use the pprint module, which stands for \"pretty print.\" The pprint module provides a function called pprint() that formats the output of complex data structures, including dictionaries, in a more readable and aesthetically pleasing way.\n",
    "\n",
    "Here's how you can use the pprint module and its pprint() function to pretty print dictionary values:"
   ]
  },
  {
   "cell_type": "code",
   "execution_count": 8,
   "id": "7efd4ad7",
   "metadata": {},
   "outputs": [
    {
     "name": "stdout",
     "output_type": "stream",
     "text": [
      "{'address': {'street': '123 Main St', 'zip': '10001'},\n",
      " 'age': 30,\n",
      " 'city': 'New York',\n",
      " 'hobbies': ['reading', 'cooking', 'traveling'],\n",
      " 'name': 'John'}\n"
     ]
    }
   ],
   "source": [
    "import pprint\n",
    "\n",
    "# Sample dictionary\n",
    "my_dict = {\n",
    "    'name': 'John',\n",
    "    'age': 30,\n",
    "    'city': 'New York',\n",
    "    'hobbies': ['reading', 'cooking', 'traveling'],\n",
    "    'address': {\n",
    "        'street': '123 Main St',\n",
    "        'zip': '10001'\n",
    "    }\n",
    "}\n",
    "\n",
    "# Pretty print the dictionary\n",
    "pprint.pprint(my_dict)\n"
   ]
  },
  {
   "cell_type": "code",
   "execution_count": null,
   "id": "fc746f4e",
   "metadata": {},
   "outputs": [],
   "source": []
  }
 ],
 "metadata": {
  "kernelspec": {
   "display_name": "Python 3 (ipykernel)",
   "language": "python",
   "name": "python3"
  },
  "language_info": {
   "codemirror_mode": {
    "name": "ipython",
    "version": 3
   },
   "file_extension": ".py",
   "mimetype": "text/x-python",
   "name": "python",
   "nbconvert_exporter": "python",
   "pygments_lexer": "ipython3",
   "version": "3.10.9"
  }
 },
 "nbformat": 4,
 "nbformat_minor": 5
}
