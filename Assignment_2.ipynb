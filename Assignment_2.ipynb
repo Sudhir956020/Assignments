{
 "cells": [
  {
   "cell_type": "code",
   "execution_count": null,
   "id": "9b698ffb",
   "metadata": {},
   "outputs": [],
   "source": [
    "1.What are the two values of the Boolean data type? How do you write them?"
   ]
  },
  {
   "cell_type": "markdown",
   "id": "a5a98834",
   "metadata": {},
   "source": [
    "The Boolean data type has two possible values: true and false. These values represent binary logic where true represents a condition that is considered to be true or valid, and false represents a condition that is considered to be false or invalid.\n",
    "\n",
    "In programming languages, the values are typically written as follows:\n",
    "\n",
    "true: This represents the true condition and is usually written as true .\n",
    "false: This represents the false condition and is usually written as false ."
   ]
  },
  {
   "cell_type": "markdown",
   "id": "4f27d07c",
   "metadata": {},
   "source": [
    "# Examples :"
   ]
  },
  {
   "cell_type": "code",
   "execution_count": 4,
   "id": "33d23293",
   "metadata": {},
   "outputs": [],
   "source": [
    "a,b=5,3"
   ]
  },
  {
   "cell_type": "code",
   "execution_count": 5,
   "id": "ec430822",
   "metadata": {},
   "outputs": [
    {
     "data": {
      "text/plain": [
       "True"
      ]
     },
     "execution_count": 5,
     "metadata": {},
     "output_type": "execute_result"
    }
   ],
   "source": [
    "a>b"
   ]
  },
  {
   "cell_type": "code",
   "execution_count": 6,
   "id": "84873ba9",
   "metadata": {},
   "outputs": [
    {
     "data": {
      "text/plain": [
       "False"
      ]
     },
     "execution_count": 6,
     "metadata": {},
     "output_type": "execute_result"
    }
   ],
   "source": [
    "b>a"
   ]
  },
  {
   "cell_type": "code",
   "execution_count": null,
   "id": "8fcbc7a4",
   "metadata": {},
   "outputs": [],
   "source": [
    "2. What are the three different types of Boolean operators?"
   ]
  },
  {
   "cell_type": "markdown",
   "id": "d218eb2b",
   "metadata": {},
   "source": [
    "\n",
    "In Python, Boolean operators are used to perform logical operations, and there are three main types of Boolean operators:\n",
    "\n",
    "AND: The \"and\" operator returns True if both operands are True, otherwise, it returns False. It is denoted by the keyword \"and.\"\n",
    "\n",
    "OR: The \"or\" operator returns True if at least one of the operands is True, otherwise, it returns False. It is denoted by the keyword \"or.\"\n",
    "\n",
    "NOT: The \"not\" operator returns the opposite of the operand's Boolean value. If the operand is True, \"not\" will return False, and if the operand is False, \"not\" will return True. It is denoted by the keyword \"not.\""
   ]
  },
  {
   "cell_type": "markdown",
   "id": "608d8676",
   "metadata": {},
   "source": [
    "3. Make a list of each Boolean operator & truth tables (i.e. every possible combination of Boolean\n",
    "values for the operator and what it evaluate )."
   ]
  },
  {
   "cell_type": "code",
   "execution_count": null,
   "id": "8fed059c",
   "metadata": {},
   "outputs": [],
   "source": [
    "Here are the truth tables for the basic Boolean operators: AND, OR, NOT, and XOR. In these truth tables, \"T\" represents true, and \"F\" represents false.\n",
    "\n",
    "AND (conjunction):\n",
    "    \n",
    "| Input A | Input B | Output |\n",
    "|---------|---------|--------|\n",
    "|    T    |    T    |   T    |\n",
    "|    T    |    F    |   F    |\n",
    "|    F    |    T    |   F    |\n",
    "|    F    |    F    |   F    |\n",
    "\n",
    "\n",
    "OR (disjunction):\n",
    "\n",
    "| Input A | Input B | Output |\n",
    "|---------|---------|--------|\n",
    "|    T    |    T    |   T    |\n",
    "|    T    |    F    |   T    |\n",
    "|    F    |    T    |   T    |\n",
    "|    F    |    F    |   F    |\n",
    "\n",
    "\n",
    "NOT (negation):\n",
    "\n",
    "NOT Operator Truth Table:\n",
    "Input\tOutput\n",
    "False\tTrue\n",
    "True\tFalse\n",
    "\n",
    "\n",
    "\n",
    "\n"
   ]
  },
  {
   "cell_type": "markdown",
   "id": "e74ced81",
   "metadata": {},
   "source": [
    "4. What are the values of the following expressions?\n",
    "(5 &gt; 4) and (3 == 5)\n",
    "not (5 &gt; 4)\n",
    "(5 &gt; 4) or (3 == 5)\n",
    "not ((5 &gt; 4) or (3 == 5))\n",
    "(True and True) and (True == False)\n",
    "(not False) or (not True)"
   ]
  },
  {
   "cell_type": "markdown",
   "id": "7904f8bc",
   "metadata": {},
   "source": [
    "the values of the expressions are:\n",
    "\n",
    "(5 > 4) => True\n",
    "(3 == 5) => False\n",
    "not (5 > 4) => False\n",
    "(5 > 4) or (3 == 5) => True\n",
    "not ((5 > 4) or (3 == 5)) => False\n",
    "(True and True) and (True == False) => False\n",
    "(not False) or (not True) => True"
   ]
  },
  {
   "cell_type": "code",
   "execution_count": null,
   "id": "3abefa03",
   "metadata": {},
   "outputs": [],
   "source": [
    "5. What are the six comparison operators?"
   ]
  },
  {
   "cell_type": "markdown",
   "id": "254d704f",
   "metadata": {},
   "source": [
    "In Python, comparison operators are used to compare values and evaluate expressions. There are six main comparison operators:\n",
    "\n",
    "Equal to (==): Checks if two values are equal. Returns True if the values are equal; otherwise, returns False.\n",
    "\n",
    "Not equal to (!=): Checks if two values are not equal. Returns True if the values are different; otherwise, returns False.\n",
    "\n",
    "Greater than (>): Checks if the value on the left is greater than the value on the right. Returns True if the condition is met; otherwise, returns False.\n",
    "\n",
    "Less than (<): Checks if the value on the left is less than the value on the right. Returns True if the condition is met; otherwise, returns False.\n",
    "\n",
    "Greater than or equal to (>=): Checks if the value on the left is greater than or equal to the value on the right. Returns True if the condition is met; otherwise, returns False.\n",
    "\n",
    "Less than or equal to (<=): Checks if the value on the left is less than or equal to the value on the right. Returns True if the condition is met; otherwise, returns False.\n",
    "\n",
    "Here are some examples of using these comparison operators in Python:\n",
    "    \n",
    "# Examples of comparison operators\n",
    "\n",
    "x = 5\n",
    "y = 10\n",
    "\n",
    "print(x == y)  # False\n",
    "print(x != y)  # True\n",
    "print(x > y)   # False\n",
    "print(x < y)   # True\n",
    "print(x >= y)  # False\n",
    "print(x <= y)  # True\n"
   ]
  },
  {
   "cell_type": "code",
   "execution_count": null,
   "id": "1be457de",
   "metadata": {},
   "outputs": [],
   "source": [
    "6. How do you tell the difference between the equal to and assignment operators?Describe a\n",
    "condition and when you would use one."
   ]
  },
  {
   "cell_type": "code",
   "execution_count": null,
   "id": "654bb52a",
   "metadata": {},
   "outputs": [],
   "source": [
    "The equal to and assignment operators are both used in programming, but they serve different purposes and are used in different contexts.\n",
    "\n",
    "Equal To Operator (==):\n",
    "The equal to operator is used for comparison in programming. It checks whether two values are equal to each other and returns a Boolean value (either true or false) based on the comparison. It is essential to note that the equal to operator tests for equality, not assignment. The syntax for the equal to operator is ==.\n",
    "\n",
    "Example\n",
    "\n",
    "x = 5\n",
    "y = 10\n",
    "\n",
    "if x == y:\n",
    "    print(\"x and y are equal.\")\n",
    "else:\n",
    "    print(\"x and y are not equal.\")\n",
    "\n",
    "    \n",
    "    In this example, the equal to operator (==) compares the values of x and y. Since x is 5 and y is 10, the condition evaluates to False, and the output will be \"x and y are not equal.\"\n",
    "    \n",
    "    \n",
    "    Assignment Operator (=):\n",
    "The assignment operator is used to assign a value to a variable. It does not compare two values like the equal to operator; instead, it assigns the value on the right-hand side to the variable on the left-hand side. The syntax for the assignment operator is =.\n",
    "Example:\n",
    "    \n",
    "x = 5\n",
    "\n",
    "# Assigning a new value to the variable x\n",
    "x = 10\n",
    "\n",
    "In this example, the assignment operator (=) assigns the value 10 to the variable x, overwriting its previous value of 5.\n",
    "\n",
    "\n",
    "\n",
    "When to use each operator:\n",
    "You would use the equal to operator (==) when you want to compare two values to determine if they are the same or not. This is commonly used in conditional statements, like if statements or loops, to control the flow of the program based on certain conditions.\n",
    "\n",
    "On the other hand, you would use the assignment operator (=) when you want to store or update a value in a variable. It is used whenever you need to assign a value to a variable or update its existing value with a new one. This is a fundamental operation in programming that enables you to store and manipulate data throughout your program's execution.\n",
    "\n",
    "\n"
   ]
  },
  {
   "cell_type": "markdown",
   "id": "0ff094ad",
   "metadata": {},
   "source": [
    "7. Identify the three blocks in this code:\n",
    "spam = 0\n",
    "if spam == 10:\n",
    "print(&#39;eggs&#39;)\n",
    "if spam &gt; 5:\n",
    "print(&#39;bacon&#39;)\n",
    "else:\n",
    "print(&#39;ham&#39;)\n",
    "print(&#39;spam&#39;)\n",
    "print(&#39;spam&#39;)"
   ]
  },
  {
   "cell_type": "code",
   "execution_count": null,
   "id": "63c80144",
   "metadata": {},
   "outputs": [],
   "source": [
    "8. Write code that prints Hello if 1 is stored in spam, prints Howdy if 2 is stored in spam, and prints\n",
    "Greetings! if anything else is stored in spam."
   ]
  },
  {
   "cell_type": "code",
   "execution_count": 8,
   "id": "914df06d",
   "metadata": {},
   "outputs": [],
   "source": [
    "def greet_spam(spam):\n",
    "    if spam==1:\n",
    "        print(\"Hello\")\n",
    "    elif spam==2:\n",
    "        print(\"Howdy\")\n",
    "    else:\n",
    "        print(\"Greetings!\")"
   ]
  },
  {
   "cell_type": "code",
   "execution_count": 9,
   "id": "1dee25fa",
   "metadata": {},
   "outputs": [
    {
     "name": "stdout",
     "output_type": "stream",
     "text": [
      "Hello\n"
     ]
    }
   ],
   "source": [
    "greet_spam(1)"
   ]
  },
  {
   "cell_type": "code",
   "execution_count": 11,
   "id": "9cd4017e",
   "metadata": {},
   "outputs": [
    {
     "name": "stdout",
     "output_type": "stream",
     "text": [
      "Howdy\n"
     ]
    }
   ],
   "source": [
    "greet_spam(2)"
   ]
  },
  {
   "cell_type": "code",
   "execution_count": 12,
   "id": "122aad1a",
   "metadata": {},
   "outputs": [
    {
     "name": "stdout",
     "output_type": "stream",
     "text": [
      "Greetings!\n"
     ]
    }
   ],
   "source": [
    "greet_spam(5)"
   ]
  },
  {
   "cell_type": "code",
   "execution_count": null,
   "id": "020564ce",
   "metadata": {},
   "outputs": [],
   "source": []
  },
  {
   "cell_type": "code",
   "execution_count": null,
   "id": "d1f988a2",
   "metadata": {},
   "outputs": [],
   "source": [
    "9.If your programme is stuck in an endless loop, what keys you’ll press?"
   ]
  },
  {
   "cell_type": "markdown",
   "id": "34a58761",
   "metadata": {},
   "source": [
    "If your Python program is stuck in an endless loop and you need to stop it, you can typically interrupt the execution using the following key combination:\n",
    "\n",
    "Ctrl + C (Control + C) on Windows or Linux systems.\n",
    "Command + C on macOS.\n",
    "When you press this key combination, it sends an interrupt signal to the running program, which should cause it to terminate and break out of the endless loop. Please note that this will halt the execution of your program abruptly, so you might lose any unsaved data or incomplete processes.\n",
    "\n",
    "If, for some reason, the above method doesn't work or the program is completely unresponsive, you may need to terminate it through other means, such as:\n",
    "\n",
    "On Windows, you can try ending the Python process through the Task Manager.\n",
    "On Linux or macOS, you can use the kill command to stop the process using the terminal.\n",
    "Remember that it's always a good practice to make sure your code doesn't get stuck in endless loops in the first place. Properly debugging and testing your code can help identify and fix such issues before they become problematic.\n",
    "\n",
    "\n",
    "\n",
    "\n",
    "\n",
    "\n"
   ]
  },
  {
   "cell_type": "code",
   "execution_count": null,
   "id": "93600691",
   "metadata": {},
   "outputs": [],
   "source": [
    "10. How can you tell the difference between break and continue? "
   ]
  },
  {
   "cell_type": "code",
   "execution_count": null,
   "id": "614f679c",
   "metadata": {},
   "outputs": [],
   "source": [
    "In programming, both break and continue are control flow statements that alter the normal flow of a loop. They are commonly used in loops such as for and while to control the iteration process. However, they serve different purposes:\n",
    "\n",
    "break:\n",
    "The break statement is used to exit the current loop prematurely when a specific condition is met. When encountered, the break statement immediately terminates the loop, and the program execution moves to the statement following the loop. It allows you to \"break out\" of the loop early based on some condition.\n",
    "\n",
    "\n",
    "    \n"
   ]
  },
  {
   "cell_type": "code",
   "execution_count": 13,
   "id": "8fdc2996",
   "metadata": {},
   "outputs": [
    {
     "name": "stdout",
     "output_type": "stream",
     "text": [
      "1\n",
      "2\n",
      "3\n",
      "4\n"
     ]
    }
   ],
   "source": [
    "for i in range(1, 11):\n",
    "    if i == 5:\n",
    "        break\n",
    "    print(i)"
   ]
  },
  {
   "cell_type": "code",
   "execution_count": null,
   "id": "4c25d055",
   "metadata": {},
   "outputs": [],
   "source": [
    "continue:\n",
    "The continue statement is used to skip the rest of the current iteration and proceed to the next iteration of the loop. When encountered, it immediately jumps to the next iteration without executing the remaining statements inside the loop body.\n"
   ]
  },
  {
   "cell_type": "code",
   "execution_count": 14,
   "id": "9fef290a",
   "metadata": {},
   "outputs": [
    {
     "name": "stdout",
     "output_type": "stream",
     "text": [
      "1\n",
      "2\n",
      "4\n",
      "5\n"
     ]
    }
   ],
   "source": [
    "for i in range(1, 6):\n",
    "    if i == 3:\n",
    "        continue\n",
    "    print(i)\n"
   ]
  },
  {
   "cell_type": "code",
   "execution_count": null,
   "id": "93526c88",
   "metadata": {},
   "outputs": [],
   "source": [
    "In this example, the loop skips printing 3 because the continue statement is executed when i is equal to 3. It then proceeds to the next iteration and continues with the loop.\n",
    "\n",
    "To summarize:\n",
    "\n",
    "break: Terminates the loop entirely when a condition is met.\n",
    "continue: Skips the current iteration and moves to the next iteration when a condition is met."
   ]
  },
  {
   "cell_type": "code",
   "execution_count": null,
   "id": "801abf85",
   "metadata": {},
   "outputs": [],
   "source": [
    "11. In a for loop, what is the difference between range(10), range(0, 10), and range(0, 10, 1)?"
   ]
  },
  {
   "cell_type": "code",
   "execution_count": null,
   "id": "fb578623",
   "metadata": {},
   "outputs": [],
   "source": [
    "for i in range(0, 10, 2):\n",
    "    print(i)"
   ]
  },
  {
   "cell_type": "code",
   "execution_count": 20,
   "id": "07aa1025",
   "metadata": {},
   "outputs": [
    {
     "name": "stdout",
     "output_type": "stream",
     "text": [
      "0\n",
      "1\n",
      "2\n",
      "3\n",
      "4\n",
      "5\n",
      "6\n",
      "7\n",
      "8\n",
      "9\n"
     ]
    }
   ],
   "source": [
    "for i in range(0, 10):\n",
    "    print(i)"
   ]
  },
  {
   "cell_type": "code",
   "execution_count": 19,
   "id": "b799656b",
   "metadata": {},
   "outputs": [
    {
     "name": "stdout",
     "output_type": "stream",
     "text": [
      "0\n",
      "1\n",
      "2\n",
      "3\n",
      "4\n",
      "5\n",
      "6\n",
      "7\n",
      "8\n",
      "9\n"
     ]
    }
   ],
   "source": [
    "for i in range(10):\n",
    "    print(i)"
   ]
  },
  {
   "cell_type": "code",
   "execution_count": null,
   "id": "bdf3331b",
   "metadata": {},
   "outputs": [],
   "source": [
    "In Python, the range() function is used to generate a sequence of numbers, typically used for iterating over a fixed set of values. It can be used in a for loop to execute a block of code a specified number of times. The three expressions you mentioned, range(10), range(0, 10), and range(0, 10, 1), are all ways to create a range of numbers, but they have slightly different syntax and behavior:\n",
    "\n",
    "range(10):\n",
    "This expression generates a sequence of numbers from 0 up to, but not including, 10. The start value is omitted, and by default, it starts from 0. So, the sequence will be [0, 1, 2, 3, 4, 5, 6, 7, 8, 9].\n",
    "\n",
    "range(0, 10):\n",
    "This expression is similar to the previous one but explicitly specifies both the start and stop values. The sequence will also be [0, 1, 2, 3, 4, 5, 6, 7, 8, 9].\n",
    "\n",
    "range(0, 10, 1):\n",
    "This expression also specifies both the start and stop values, but it additionally includes the step value. The step value determines the difference between each consecutive number in the sequence. In this case, the step is 1, so the sequence will be [0, 1, 2, 3, 4, 5, 6, 7, 8, 9], just like the previous examples.\n",
    "\n",
    "In summary, all three expressions generate the same sequence of numbers. The difference lies in how you specify the arguments for the range() function, but their outputs are identical. By default, if you only provide one argument, it represents the stop value, and the start value is assumed to be 0. If you provide two arguments, they represent the start and stop values, respectively. Lastly, if you provide three arguments, they represent the start, stop, and step values, respectively.\n",
    "\n",
    "\n",
    "\n",
    "\n",
    "\n",
    "\n",
    "\n"
   ]
  },
  {
   "cell_type": "code",
   "execution_count": null,
   "id": "5255037e",
   "metadata": {},
   "outputs": [],
   "source": [
    "12. Write a short program that prints the numbers 1 to 10 using a for loop. Then write an equivalent\n",
    "program that prints the numbers 1 to 10 using a while loop."
   ]
  },
  {
   "cell_type": "code",
   "execution_count": 21,
   "id": "4510eccb",
   "metadata": {},
   "outputs": [
    {
     "name": "stdout",
     "output_type": "stream",
     "text": [
      "1\n",
      "2\n",
      "3\n",
      "4\n",
      "5\n",
      "6\n",
      "7\n",
      "8\n",
      "9\n",
      "10\n"
     ]
    }
   ],
   "source": [
    "for i in range(1, 11):  # Using a for loop\n",
    "    print(i)"
   ]
  },
  {
   "cell_type": "code",
   "execution_count": 22,
   "id": "0a7ef06a",
   "metadata": {},
   "outputs": [
    {
     "name": "stdout",
     "output_type": "stream",
     "text": [
      "1\n",
      "2\n",
      "3\n",
      "4\n",
      "5\n",
      "6\n",
      "7\n",
      "8\n",
      "9\n",
      "10\n"
     ]
    }
   ],
   "source": [
    "# Using a while loop\n",
    "num = 1\n",
    "while num <= 10:\n",
    "    print(num)\n",
    "    num += 1\n"
   ]
  },
  {
   "cell_type": "code",
   "execution_count": null,
   "id": "ae64221c",
   "metadata": {},
   "outputs": [],
   "source": [
    "13. If you had a function named bacon() inside a module named spam, how would you call it after\n",
    "importing spam?"
   ]
  },
  {
   "cell_type": "code",
   "execution_count": null,
   "id": "547c9291",
   "metadata": {},
   "outputs": [],
   "source": [
    "import spam\n",
    "\n",
    "spam.bacon()\n"
   ]
  },
  {
   "cell_type": "code",
   "execution_count": null,
   "id": "c832c7a4",
   "metadata": {},
   "outputs": [],
   "source": [
    "Here, spam is the name of the module, and bacon() is the name of the function inside that module. By prefixing the function name with the module name and a dot (.), you can access and call the function from the imported module.\n"
   ]
  }
 ],
 "metadata": {
  "kernelspec": {
   "display_name": "Python 3 (ipykernel)",
   "language": "python",
   "name": "python3"
  },
  "language_info": {
   "codemirror_mode": {
    "name": "ipython",
    "version": 3
   },
   "file_extension": ".py",
   "mimetype": "text/x-python",
   "name": "python",
   "nbconvert_exporter": "python",
   "pygments_lexer": "ipython3",
   "version": "3.10.9"
  }
 },
 "nbformat": 4,
 "nbformat_minor": 5
}
