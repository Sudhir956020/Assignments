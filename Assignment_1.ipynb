{
 "cells": [
  {
   "cell_type": "markdown",
   "id": "bcaa63bb",
   "metadata": {},
   "source": [
    "1. In the below elements which of them are values or an expression? eg:- values can be\n",
    "integer or string and expressions will be mathematical operators."
   ]
  },
  {
   "cell_type": "markdown",
   "id": "f8635234",
   "metadata": {},
   "source": [
    "*"
   ]
  },
  {
   "cell_type": "markdown",
   "id": "8878e48e",
   "metadata": {},
   "source": [
    "* = Multiply Arithmetic operators"
   ]
  },
  {
   "cell_type": "markdown",
   "id": "13bdd8b0",
   "metadata": {},
   "source": [
    "'hello' is a string"
   ]
  },
  {
   "cell_type": "markdown",
   "id": "2b1b8bcf",
   "metadata": {},
   "source": [
    "-87.8 its a float"
   ]
  },
  {
   "cell_type": "code",
   "execution_count": null,
   "id": "a34aba0c",
   "metadata": {},
   "outputs": [],
   "source": [
    "- this is Arithmetic operators (Subtraction)"
   ]
  },
  {
   "cell_type": "code",
   "execution_count": null,
   "id": "b78a9a7a",
   "metadata": {},
   "outputs": [],
   "source": [
    "/ this is Arithmetic operators (Division)"
   ]
  },
  {
   "cell_type": "code",
   "execution_count": null,
   "id": "c5f5b06f",
   "metadata": {},
   "outputs": [],
   "source": [
    "+ this is Arithmetic operators (Addition)"
   ]
  },
  {
   "cell_type": "markdown",
   "id": "116d4a2b",
   "metadata": {},
   "source": [
    "# 2. What is the difference between string and variable?"
   ]
  },
  {
   "cell_type": "markdown",
   "id": "d8fb29b7",
   "metadata": {},
   "source": [
    "Ans. String:\n",
    "A string is a data type that represents a sequence of characters. Characters can include letters, digits, symbols, and whitespace. In most programming languages, strings are enclosed within single quotes (' '), double quotes (\" \"), or triple quotes (\"\"\" \"\"\"). Examples of strings:\n",
    "\n",
    "\"Hello, World!\"\n",
    "'12345'\n",
    "\n",
    "\n",
    "Variable:\n",
    "A variable is a named storage location in a program's memory that holds a value. It acts as a container to store and reference data during the execution of the program. Variables can store various types of data, including strings, numbers, booleans, and more.\n",
    "When you declare a variable, you provide a name for it, and you can assign a value of a particular data type to it. The value of a variable can change during the execution of the program, depending on the operations performed on it.\n",
    "\n"
   ]
  },
  {
   "cell_type": "markdown",
   "id": "89092e95",
   "metadata": {},
   "source": [
    "3. Describe three different data types."
   ]
  },
  {
   "cell_type": "markdown",
   "id": "8d14e974",
   "metadata": {},
   "source": [
    "Ans. \n",
    "1.Integer:\n",
    "The integer data type represents whole numbers, both positive and negative, without any fractional or decimal components.\n",
    "\n",
    "2.Floating-Point:\n",
    "The floating-point data type, often called \"float,\" is used to represent numbers with fractional components. Floats are commonly used for storing real numbers, such as decimal values and scientific notation. \n",
    "\n",
    "3.String:\n",
    "The string data type represents a sequence of characters and is used to store textual data. Strings are enclosed within single quotes ('') or double quotes (\"\") in most programming languages. They can contain letters, numbers, symbols, and spaces. Strings are immutable in many programming languages, meaning their contents cannot be changed once they are created. However, operations like concatenation and slicing can be performed on them.\n"
   ]
  },
  {
   "cell_type": "markdown",
   "id": "72f6bbf6",
   "metadata": {},
   "source": [
    "4. What is an expression made up of? What do all expressions do?"
   ]
  },
  {
   "cell_type": "markdown",
   "id": "aaae30c4",
   "metadata": {},
   "source": [
    "\n",
    "An expression in programming and mathematics is a combination of one or more constants, variables, operators, and function calls that evaluates to a single value. Expressions can be simple or complex, and they are a fundamental concept used in programming and mathematical calculations.\n",
    "\n",
    "The basic components that make up an expression are:\n",
    "\n",
    "Constants: Fixed values that do not change during the evaluation of the expression, such as numbers (e.g., 5, 3.14) or strings (e.g., \"hello\").\n",
    "\n",
    "Variables: Symbols that represent changing values during the execution of a program or calculation.\n",
    "\n",
    "Operators: Symbols or keywords that perform operations on the constants and variables to produce a new value. Common operators include arithmetic operators (e.g., + for addition, - for subtraction, * for multiplication, / for division), comparison operators (e.g., == for equality, > for greater than, < for less than), and logical operators (e.g., && for logical AND, || for logical OR).\n",
    "\n",
    "Function calls: Invoking functions to perform specific operations and return values.\n",
    "\n",
    "All expressions, regardless of their complexity, have one primary purpose: to compute and produce a single value as the result of the evaluation. The evaluation follows specific rules based on the precedence of operators and the type of expression being used. For instance, in arithmetic expressions, the order of operations dictates how the expression is evaluated, following the PEMDAS/BODMAS (Parentheses/Brackets, Exponents/Orders, Multiplication and Division, Addition and Subtraction) rules.\n",
    "\n",
    "Expressions are widely used in programming to perform calculations, make decisions, control program flow, and manipulate data. "
   ]
  },
  {
   "cell_type": "markdown",
   "id": "f2d243c8",
   "metadata": {},
   "source": [
    "5. This assignment statements, like spam = 10. What is the difference between an\n",
    "expression and a statement?"
   ]
  },
  {
   "cell_type": "markdown",
   "id": "6b607299",
   "metadata": {},
   "source": [
    "Expression:\n",
    "An expression is a combination of literals, variables, operators, and function calls that can be evaluated to produce a value. In other words, an expression is anything that can resolve to a single value. Expressions can be as simple as a single constant value or as complex as a combination of multiple operations. \n",
    "\n",
    "Statement:\n",
    "A statement, on the other hand, is a line of code that performs an action or a specific operation. Statements are used to control the flow of a program and can consist of one or more expressions, as well as various keywords and operators. Statements do not evaluate to a value but instead, they carry out a specific action or set of actions. "
   ]
  },
  {
   "cell_type": "markdown",
   "id": "88152e32",
   "metadata": {},
   "source": [
    "6. After running the following code, what does the variable bacon contain?\n",
    "bacon = 22\n",
    "bacon + 1"
   ]
  },
  {
   "cell_type": "code",
   "execution_count": 5,
   "id": "c0382598",
   "metadata": {},
   "outputs": [],
   "source": [
    "bacon=22"
   ]
  },
  {
   "cell_type": "code",
   "execution_count": 6,
   "id": "412bbac3",
   "metadata": {},
   "outputs": [
    {
     "data": {
      "text/plain": [
       "23"
      ]
     },
     "execution_count": 6,
     "metadata": {},
     "output_type": "execute_result"
    }
   ],
   "source": [
    "bacon+1"
   ]
  },
  {
   "cell_type": "markdown",
   "id": "c928f57e",
   "metadata": {},
   "source": [
    "7. What should the values of the following two terms be?\n",
    "\"spam\"+'spamspam'\n",
    "'spam'*3"
   ]
  },
  {
   "cell_type": "code",
   "execution_count": 7,
   "id": "0231885e",
   "metadata": {},
   "outputs": [],
   "source": [
    "add=\"spam\"+'spamspam'"
   ]
  },
  {
   "cell_type": "code",
   "execution_count": 8,
   "id": "1db1e6a7",
   "metadata": {},
   "outputs": [
    {
     "data": {
      "text/plain": [
       "'spamspamspam'"
      ]
     },
     "execution_count": 8,
     "metadata": {},
     "output_type": "execute_result"
    }
   ],
   "source": [
    "add"
   ]
  },
  {
   "cell_type": "code",
   "execution_count": 9,
   "id": "e733ed2b",
   "metadata": {},
   "outputs": [],
   "source": [
    "mul='spam'*3"
   ]
  },
  {
   "cell_type": "code",
   "execution_count": 10,
   "id": "12c5fb55",
   "metadata": {},
   "outputs": [
    {
     "data": {
      "text/plain": [
       "'spamspamspam'"
      ]
     },
     "execution_count": 10,
     "metadata": {},
     "output_type": "execute_result"
    }
   ],
   "source": [
    "mul"
   ]
  },
  {
   "cell_type": "markdown",
   "id": "f6e70c7f",
   "metadata": {},
   "source": [
    "8. Why is eggs a valid variable name while 100 is invalid?"
   ]
  },
  {
   "cell_type": "markdown",
   "id": "17ebb7bc",
   "metadata": {},
   "source": [
    "1.Starting with a letter or underscore: In Python and many other programming languages, variable names must start with a letter (a-z, A-Z) or an underscore (_). They cannot begin with a digit.\n",
    "\n",
    "Valid: eggs, _eggs, eggs_1, _eggs_2\n",
    "Invalid: 100, 100_eggs (starts with a digit)\n",
    "    \n",
    "2. Containing letters, digits, and underscores: Variable names can consist of letters (a-z, A-Z), digits (0-9), and underscores (_). No other characters or special symbols are allowed in variable names.\n",
    "\n",
    "Valid: eggs, eggs_1, egg_2_sandwich\n",
    "Invalid: egg#1, egg$2, egg-sandwich (contains non-allowed characters)\n",
    "\n",
    "3. Reserving keywords: Variable names cannot be the same as reserved keywords in the programming language. For example, \"if,\" \"while,\" \"for,\" and \"print\" are reserved keywords in Python. Using them as variable names would cause conflicts with the language's syntax.\n",
    "\n",
    "Valid: eggs, while_loop, my_if\n",
    "Invalid: if, while, for (reserved keywords)\n",
    "    \n",
    "4.  Digits-only names: Some programming languages allow variable names that consist entirely of digits (e.g., \"100\"), but many do not. It's generally avoided because it can lead to confusion with numeric literals.\n",
    "\n",
    "Valid (in some languages): 100, 12345\n",
    "Invalid (in some languages): 100 (e.g., Python), 12345 (e.g., Python)\n",
    "    \n",
    "    \n",
    "In summary, \"eggs\" is a valid variable name because it starts with a letter, contains only letters and underscores, and does not conflict with any reserved keywords. On the other hand, \"100\" is invalid because it starts with a digit and does not adhere to the naming conventions for variables.\n"
   ]
  },
  {
   "cell_type": "markdown",
   "id": "1c328d1b",
   "metadata": {},
   "source": [
    "9. What three functions can be used to get the integer, floating-point number, or string\n",
    "version of a value?"
   ]
  },
  {
   "cell_type": "markdown",
   "id": "e4c26590",
   "metadata": {},
   "source": [
    "# Converting a string to an integer\n",
    "string_value = \"42\"\n",
    "integer_value = int(string_value)\n",
    "print(integer_value)  # Output: 42\n",
    "\n",
    "# Converting a floating-point number to an integer\n",
    "float_value = 3.14\n",
    "integer_value = int(float_value)\n",
    "print(integer_value)  # Output: 3\n",
    "\n",
    "\n",
    "# Converting a string to a floating-point number\n",
    "string_value = \"3.14\"\n",
    "float_value = float(string_value)\n",
    "print(float_value)  # Output: 3.14\n",
    "\n",
    "# Converting an integer to a floating-point number\n",
    "integer_value = 42\n",
    "float_value = float(integer_value)\n",
    "print(float_value)  # Output: 42.0\n",
    "\n",
    "\n",
    "# Converting an integer to a string\n",
    "integer_value = 42\n",
    "string_value = str(integer_value)\n",
    "print(string_value)  # Output: \"42\"\n",
    "\n",
    "# Converting a floating-point number to a string\n",
    "float_value = 3.14\n",
    "string_value = str(float_value)\n",
    "print(string_value)  # Output: \"3.14\"\n"
   ]
  },
  {
   "cell_type": "markdown",
   "id": "525d936d",
   "metadata": {},
   "source": [
    "10. Why does this expression cause an error? How can you fix it?\n",
    "&#39;I have eaten &#39; + 99 + &#39; burritos.&#39;"
   ]
  },
  {
   "cell_type": "code",
   "execution_count": 11,
   "id": "a0b721cf",
   "metadata": {},
   "outputs": [],
   "source": [
    "x= 'I have eaten '"
   ]
  },
  {
   "cell_type": "code",
   "execution_count": 12,
   "id": "a1b961ef",
   "metadata": {},
   "outputs": [
    {
     "data": {
      "text/plain": [
       "'I have eaten '"
      ]
     },
     "execution_count": 12,
     "metadata": {},
     "output_type": "execute_result"
    }
   ],
   "source": [
    "x"
   ]
  },
  {
   "cell_type": "code",
   "execution_count": 13,
   "id": "a4fbf2a3",
   "metadata": {},
   "outputs": [],
   "source": [
    "b=99"
   ]
  },
  {
   "cell_type": "code",
   "execution_count": 14,
   "id": "140a0d2b",
   "metadata": {},
   "outputs": [],
   "source": [
    "c='burritos'"
   ]
  },
  {
   "cell_type": "code",
   "execution_count": 15,
   "id": "7d23771c",
   "metadata": {},
   "outputs": [
    {
     "ename": "TypeError",
     "evalue": "can only concatenate str (not \"int\") to str",
     "output_type": "error",
     "traceback": [
      "\u001b[1;31m---------------------------------------------------------------------------\u001b[0m",
      "\u001b[1;31mTypeError\u001b[0m                                 Traceback (most recent call last)",
      "Cell \u001b[1;32mIn[15], line 1\u001b[0m\n\u001b[1;32m----> 1\u001b[0m y\u001b[38;5;241m=\u001b[39m\u001b[43mx\u001b[49m\u001b[38;5;241;43m+\u001b[39;49m\u001b[43mb\u001b[49m\u001b[38;5;241m+\u001b[39mc\n",
      "\u001b[1;31mTypeError\u001b[0m: can only concatenate str (not \"int\") to str"
     ]
    }
   ],
   "source": [
    "y=x+b+c # error becouse can only concatenate str (not \"int\") to str"
   ]
  },
  {
   "cell_type": "code",
   "execution_count": 16,
   "id": "b4e55b3d",
   "metadata": {},
   "outputs": [],
   "source": [
    "b='99' # converting into string"
   ]
  },
  {
   "cell_type": "code",
   "execution_count": 17,
   "id": "eb168a8d",
   "metadata": {},
   "outputs": [],
   "source": [
    "y=x+b+c  # After # converting b into string"
   ]
  },
  {
   "cell_type": "code",
   "execution_count": 18,
   "id": "50673a09",
   "metadata": {},
   "outputs": [
    {
     "data": {
      "text/plain": [
       "'I have eaten 99burritos'"
      ]
     },
     "execution_count": 18,
     "metadata": {},
     "output_type": "execute_result"
    }
   ],
   "source": [
    "y"
   ]
  },
  {
   "cell_type": "code",
   "execution_count": null,
   "id": "40581eb6",
   "metadata": {},
   "outputs": [],
   "source": []
  }
 ],
 "metadata": {
  "kernelspec": {
   "display_name": "Python 3 (ipykernel)",
   "language": "python",
   "name": "python3"
  },
  "language_info": {
   "codemirror_mode": {
    "name": "ipython",
    "version": 3
   },
   "file_extension": ".py",
   "mimetype": "text/x-python",
   "name": "python",
   "nbconvert_exporter": "python",
   "pygments_lexer": "ipython3",
   "version": "3.10.9"
  }
 },
 "nbformat": 4,
 "nbformat_minor": 5
}
