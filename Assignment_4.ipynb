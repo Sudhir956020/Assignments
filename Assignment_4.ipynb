{
 "cells": [
  {
   "cell_type": "code",
   "execution_count": null,
   "id": "383ba7e3",
   "metadata": {},
   "outputs": [],
   "source": [
    "1. What exactly is []?"
   ]
  },
  {
   "cell_type": "markdown",
   "id": "1d145713",
   "metadata": {},
   "source": [
    "\n",
    "In Python, [] represents an empty list. A list is a mutable, ordered collection of elements, and it can hold items of different data types, including integers, strings, floats, other lists, and more.\n",
    "\n",
    "An empty list is simply a list with no elements in it. You can create an empty list using square brackets [] with nothing between them:\n",
    "    \n",
    "empty_list = []\n"
   ]
  },
  {
   "cell_type": "markdown",
   "id": "8974ef5a",
   "metadata": {},
   "source": [
    "2. In a list of values stored in a variable called spam, how would you assign the value &#39;hello&#39; as the\n",
    "third value? (Assume [2, 4, 6, 8, 10] are in spam.)"
   ]
  },
  {
   "cell_type": "code",
   "execution_count": 1,
   "id": "cb7100db",
   "metadata": {},
   "outputs": [],
   "source": [
    "spam = [2, 4, 6, 8, 10]\n"
   ]
  },
  {
   "cell_type": "code",
   "execution_count": 2,
   "id": "0b24e660",
   "metadata": {},
   "outputs": [
    {
     "data": {
      "text/plain": [
       "[2, 4, 6, 8, 10]"
      ]
     },
     "execution_count": 2,
     "metadata": {},
     "output_type": "execute_result"
    }
   ],
   "source": [
    "spam"
   ]
  },
  {
   "cell_type": "code",
   "execution_count": 3,
   "id": "3119ff68",
   "metadata": {},
   "outputs": [],
   "source": [
    "spam[2] = 'hello'"
   ]
  },
  {
   "cell_type": "code",
   "execution_count": 4,
   "id": "204dbe15",
   "metadata": {},
   "outputs": [
    {
     "data": {
      "text/plain": [
       "[2, 4, 'hello', 8, 10]"
      ]
     },
     "execution_count": 4,
     "metadata": {},
     "output_type": "execute_result"
    }
   ],
   "source": [
    "spam"
   ]
  },
  {
   "cell_type": "markdown",
   "id": "921afa0b",
   "metadata": {},
   "source": [
    "Let&#39;s pretend the spam includes the list [&#39;a&#39;, &#39;b&#39;, &#39;c&#39;, &#39;d&#39;] for the next three queries.\n"
   ]
  },
  {
   "cell_type": "code",
   "execution_count": null,
   "id": "97fb5cb9",
   "metadata": {},
   "outputs": [],
   "source": [
    "3. What is the value of spam[int(int('3' * 2) / 11)]? "
   ]
  },
  {
   "cell_type": "code",
   "execution_count": 6,
   "id": "01c647a0",
   "metadata": {},
   "outputs": [
    {
     "data": {
      "text/plain": [
       "'33'"
      ]
     },
     "execution_count": 6,
     "metadata": {},
     "output_type": "execute_result"
    }
   ],
   "source": [
    "('3' * 2)"
   ]
  },
  {
   "cell_type": "code",
   "execution_count": 7,
   "id": "252163b6",
   "metadata": {},
   "outputs": [],
   "source": [
    "int=int('33')"
   ]
  },
  {
   "cell_type": "code",
   "execution_count": 8,
   "id": "740d991f",
   "metadata": {},
   "outputs": [
    {
     "data": {
      "text/plain": [
       "33"
      ]
     },
     "execution_count": 8,
     "metadata": {},
     "output_type": "execute_result"
    }
   ],
   "source": [
    "int"
   ]
  },
  {
   "cell_type": "code",
   "execution_count": 9,
   "id": "7e82e631",
   "metadata": {},
   "outputs": [],
   "source": [
    "spam = 33/11"
   ]
  },
  {
   "cell_type": "code",
   "execution_count": 10,
   "id": "017f9a90",
   "metadata": {},
   "outputs": [
    {
     "data": {
      "text/plain": [
       "3.0"
      ]
     },
     "execution_count": 10,
     "metadata": {},
     "output_type": "execute_result"
    }
   ],
   "source": [
    "spam"
   ]
  },
  {
   "cell_type": "code",
   "execution_count": null,
   "id": "39c88ac5",
   "metadata": {},
   "outputs": [],
   "source": [
    "spam[3] accesses the element at index 3 in the list spam. The list spam contains ['a', 'b', 'c', 'd'], so the value at index 3 is 'd'.\n",
    "\n",
    "Therefore, the value of spam[int(int('3' * 2) / 11)] is 'd'."
   ]
  },
  {
   "cell_type": "code",
   "execution_count": null,
   "id": "7e2ceb3b",
   "metadata": {},
   "outputs": [],
   "source": [
    "4. What is the value of spam[-1]?"
   ]
  },
  {
   "cell_type": "markdown",
   "id": "e5a94bac",
   "metadata": {},
   "source": [
    "spam[-1]\n",
    "\n",
    "Negative indexing in Python allows you to access elements from the end of the list. -1 corresponds to the last element in the list, -2 corresponds to the second-to-last element, and so on.\n",
    "\n",
    "The list spam is ['a', 'b', 'c', 'd'], so spam[-1] accesses the last element, which is 'd'.\n",
    "\n",
    "Therefore, the value of spam[-1] is 'd'."
   ]
  },
  {
   "cell_type": "code",
   "execution_count": null,
   "id": "270069d2",
   "metadata": {},
   "outputs": [],
   "source": [
    "5. What is the value of spam[:2]?"
   ]
  },
  {
   "cell_type": "code",
   "execution_count": 34,
   "id": "24930c34",
   "metadata": {},
   "outputs": [],
   "source": [
    "spam = ['a', 'b', 'c', 'd']"
   ]
  },
  {
   "cell_type": "markdown",
   "id": "48b382bd",
   "metadata": {},
   "source": [
    "spam[:2]\n",
    "\n",
    "This is a list slicing operation. The syntax spam[start:end] returns a new list that includes elements from the start index up to, but not including, the end index.\n",
    "\n",
    "In this case, spam[:2] returns a new list that includes elements from index 0 up to, but not including, index 2. The list spam is ['a', 'b', 'c', 'd'], so the slice includes elements at index 0 and index 1.\n",
    "\n",
    "Therefore, the value of spam[:2] is ['a', 'b']."
   ]
  },
  {
   "cell_type": "code",
   "execution_count": 35,
   "id": "15283d17",
   "metadata": {},
   "outputs": [
    {
     "data": {
      "text/plain": [
       "['a', 'b']"
      ]
     },
     "execution_count": 35,
     "metadata": {},
     "output_type": "execute_result"
    }
   ],
   "source": [
    "spam[:2]"
   ]
  },
  {
   "cell_type": "code",
   "execution_count": null,
   "id": "a502a970",
   "metadata": {},
   "outputs": [],
   "source": []
  },
  {
   "cell_type": "markdown",
   "id": "d8428524",
   "metadata": {},
   "source": [
    "Let&#39;s pretend bacon has the list [3.14, &#39;cat,&#39; 11, &#39;cat,&#39; True] for the next three questions."
   ]
  },
  {
   "cell_type": "markdown",
   "id": "5e8d2674",
   "metadata": {},
   "source": [
    "6. What is the value of bacon.index(&#39;cat&#39;)?"
   ]
  },
  {
   "cell_type": "markdown",
   "id": "c5596fd9",
   "metadata": {},
   "source": [
    "The list bacon is [3.14, 'cat', 11, 'cat', True]. The value 'cat' first appears at index 1 in the list.\n",
    "\n",
    "Therefore, the value of bacon.index('cat') is 1."
   ]
  },
  {
   "cell_type": "code",
   "execution_count": null,
   "id": "de049a4c",
   "metadata": {},
   "outputs": [],
   "source": [
    "7. How does bacon.append(99) change the look of the list value in bacon?"
   ]
  },
  {
   "cell_type": "code",
   "execution_count": 27,
   "id": "b822b3b0",
   "metadata": {},
   "outputs": [],
   "source": [
    "bacon = [3.14, 'cat', 11, 'cat', True]"
   ]
  },
  {
   "cell_type": "code",
   "execution_count": 28,
   "id": "b3c5e92f",
   "metadata": {},
   "outputs": [],
   "source": [
    "bacon.append(99)"
   ]
  },
  {
   "cell_type": "code",
   "execution_count": 29,
   "id": "081213ae",
   "metadata": {},
   "outputs": [
    {
     "data": {
      "text/plain": [
       "[3.14, 'cat', 11, 'cat', True, 99]"
      ]
     },
     "execution_count": 29,
     "metadata": {},
     "output_type": "execute_result"
    }
   ],
   "source": [
    "bacon"
   ]
  },
  {
   "cell_type": "markdown",
   "id": "8df9f02b",
   "metadata": {},
   "source": [
    "8. How does bacon.remove(&#39;cat&#39;) change the look of the list in bacon?"
   ]
  },
  {
   "cell_type": "code",
   "execution_count": 31,
   "id": "405e4403",
   "metadata": {},
   "outputs": [],
   "source": [
    "bacon.remove('cat')"
   ]
  },
  {
   "cell_type": "code",
   "execution_count": 32,
   "id": "2bda34aa",
   "metadata": {},
   "outputs": [
    {
     "data": {
      "text/plain": [
       "[3.14, 11, 'cat', True, 99]"
      ]
     },
     "execution_count": 32,
     "metadata": {},
     "output_type": "execute_result"
    }
   ],
   "source": [
    "bacon"
   ]
  },
  {
   "cell_type": "code",
   "execution_count": null,
   "id": "7be4bf0f",
   "metadata": {},
   "outputs": [],
   "source": [
    "Before the remove() operation: [3.14, 'cat', 11, 'cat', True, 99]"
   ]
  },
  {
   "cell_type": "code",
   "execution_count": null,
   "id": "6a8bdc49",
   "metadata": {},
   "outputs": [],
   "source": [
    "After the remove() operation: [3.14, 11, 'cat', True, 99]"
   ]
  },
  {
   "cell_type": "code",
   "execution_count": null,
   "id": "b48e29f3",
   "metadata": {},
   "outputs": [],
   "source": [
    "The list bacon is now [3.14, 11, 'cat', True, 99]."
   ]
  },
  {
   "cell_type": "code",
   "execution_count": null,
   "id": "089146e5",
   "metadata": {},
   "outputs": [],
   "source": []
  },
  {
   "cell_type": "code",
   "execution_count": null,
   "id": "1bed6fb8",
   "metadata": {},
   "outputs": [],
   "source": [
    "9. What are the list concatenation and list replication operators?"
   ]
  },
  {
   "cell_type": "markdown",
   "id": "4ff245f9",
   "metadata": {},
   "source": [
    "In Python, the list concatenation operator and the list replication operator are used for manipulating lists.\n",
    "\n",
    "List Concatenation Operator (+):\n",
    "The list concatenation operator + allows you to combine two or more lists into a single list. It creates a new list that contains all the elements from the operands, preserving the order of elements from the original lists.\n",
    "\n",
    "Example of list concatenation:"
   ]
  },
  {
   "cell_type": "code",
   "execution_count": 36,
   "id": "2930c801",
   "metadata": {},
   "outputs": [
    {
     "name": "stdout",
     "output_type": "stream",
     "text": [
      "[1, 2, 3, 4, 5, 6]\n"
     ]
    }
   ],
   "source": [
    "list1 = [1, 2, 3]\n",
    "list2 = [4, 5, 6]\n",
    "concatenated_list = list1 + list2\n",
    "print(concatenated_list)  # Output: [1, 2, 3, 4, 5, 6]\n"
   ]
  },
  {
   "cell_type": "markdown",
   "id": "c11c78b6",
   "metadata": {},
   "source": [
    "The concatenated_list contains all the elements from list1 and list2, forming a new list with six elements."
   ]
  },
  {
   "cell_type": "markdown",
   "id": "2fa2ba50",
   "metadata": {},
   "source": [
    "List Replication Operator (*):\n",
    "The list replication operator * allows you to create a new list by repeating an existing list a specified number of times. It creates a new list with the same elements repeated multiple times.\n",
    "\n",
    "Example of list replication:"
   ]
  },
  {
   "cell_type": "code",
   "execution_count": 38,
   "id": "2ac3c630",
   "metadata": {},
   "outputs": [
    {
     "name": "stdout",
     "output_type": "stream",
     "text": [
      "[1, 2, 3, 1, 2, 3, 1, 2, 3]\n"
     ]
    }
   ],
   "source": [
    "original_list = [1, 2, 3]\n",
    "replicated_list = original_list * 3\n",
    "print(replicated_list)  # Output: [1, 2, 3, 1, 2, 3, 1, 2, 3]\n"
   ]
  },
  {
   "cell_type": "markdown",
   "id": "2dc0fd2c",
   "metadata": {},
   "source": [
    "In this example, replicated_list is created by repeating original_list three times.\n",
    "\n",
    "Both list concatenation and list replication are useful operations for creating new lists based on existing ones. They offer flexibility in manipulating and extending lists to suit specific programming needs."
   ]
  },
  {
   "cell_type": "code",
   "execution_count": null,
   "id": "d1e61ab5",
   "metadata": {},
   "outputs": [],
   "source": [
    "10. What is difference between the list methods append() and insert()?"
   ]
  },
  {
   "cell_type": "markdown",
   "id": "eb24ace7",
   "metadata": {},
   "source": [
    "append() Method:\n",
    "The append() method is used to add an element to the end of a list. It takes a single argument, which is the element you want to add, and it adds that element to the end of the list.\n",
    "\n",
    "Syntax:"
   ]
  },
  {
   "cell_type": "markdown",
   "id": "936b6b0a",
   "metadata": {},
   "source": [
    "list_name.append(element)\n"
   ]
  },
  {
   "cell_type": "code",
   "execution_count": 40,
   "id": "0d322fd8",
   "metadata": {},
   "outputs": [
    {
     "name": "stdout",
     "output_type": "stream",
     "text": [
      "[1, 2, 3, 4]\n"
     ]
    }
   ],
   "source": [
    "numbers = [1, 2, 3]\n",
    "numbers.append(4)\n",
    "print(numbers)  # Output: [1, 2, 3, 4]\n"
   ]
  },
  {
   "cell_type": "markdown",
   "id": "006dfced",
   "metadata": {},
   "source": [
    "insert() Method:\n",
    "The insert() method is used to add an element at a specific index within the list. It takes two arguments: the first argument is the index at which you want to insert the element, and the second argument is the element you want to add.\n",
    "\n",
    "Syntax"
   ]
  },
  {
   "cell_type": "code",
   "execution_count": null,
   "id": "11f410ce",
   "metadata": {},
   "outputs": [],
   "source": [
    "list_name.insert(index, element)\n"
   ]
  },
  {
   "cell_type": "code",
   "execution_count": 41,
   "id": "d89861ac",
   "metadata": {},
   "outputs": [
    {
     "name": "stdout",
     "output_type": "stream",
     "text": [
      "['apple', 'grapes', 'banana', 'orange']\n"
     ]
    }
   ],
   "source": [
    "fruits = ['apple', 'banana', 'orange']\n",
    "fruits.insert(1, 'grapes')\n",
    "print(fruits)  # Output: ['apple', 'grapes', 'banana', 'orange']\n"
   ]
  },
  {
   "cell_type": "code",
   "execution_count": null,
   "id": "263c4fd2",
   "metadata": {},
   "outputs": [],
   "source": [
    "11. What are the two methods for removing items from a list?"
   ]
  },
  {
   "cell_type": "markdown",
   "id": "f6d2ca72",
   "metadata": {},
   "source": [
    "In Python, there are two main methods for removing items from a list:\n",
    "\n",
    "remove() Method:\n",
    "The remove() method is used to remove the first occurrence of a specified value from the list. It takes a single argument, which is the value you want to remove, and it searches for the value in the list. If the value is found, it removes the first occurrence of that value from the list. If the value is not present, it raises a ValueError."
   ]
  },
  {
   "cell_type": "code",
   "execution_count": 42,
   "id": "ddd3be0a",
   "metadata": {},
   "outputs": [
    {
     "name": "stdout",
     "output_type": "stream",
     "text": [
      "['banana', 'orange', 'apple']\n"
     ]
    }
   ],
   "source": [
    "fruits = ['apple', 'banana', 'orange', 'apple']\n",
    "fruits.remove('apple')\n",
    "print(fruits)  # Output: ['banana', 'orange', 'apple']\n"
   ]
  },
  {
   "cell_type": "markdown",
   "id": "f0712768",
   "metadata": {},
   "source": [
    "pop() Method:\n",
    "The pop() method is used to remove an element from a specific index in the list. It takes an optional argument, which is the index of the element you want to remove. If no index is specified, it removes and returns the last element from the list."
   ]
  },
  {
   "cell_type": "code",
   "execution_count": 43,
   "id": "9b0d261b",
   "metadata": {},
   "outputs": [
    {
     "name": "stdout",
     "output_type": "stream",
     "text": [
      "[1, 3, 4]\n"
     ]
    }
   ],
   "source": [
    "numbers = [1, 2, 3, 4]\n",
    "numbers.pop(1)\n",
    "print(numbers)  # Output: [1, 3, 4]\n"
   ]
  },
  {
   "cell_type": "code",
   "execution_count": null,
   "id": "144d6521",
   "metadata": {},
   "outputs": [],
   "source": [
    "12. Describe how list values and string values are identical."
   ]
  },
  {
   "cell_type": "markdown",
   "id": "d902bff8",
   "metadata": {},
   "source": [
    "List values and string values share some similarities in Python, making them comparable in certain aspects:\n",
    "\n",
    "Sequential Data:\n",
    "Both lists and strings are sequential data structures. Lists are ordered collections of elements, and strings are ordered sequences of characters. Each element or character in these data structures can be accessed by its index.\n",
    "\n",
    "Indexing:\n",
    "Elements in a list and characters in a string can be accessed using indexing. The index starts from 0 for the first element/character, and you can use both positive and negative indexing to access elements/characters from the beginning or the end of the sequence, respectively.\n",
    "\n",
    "Slicing:\n",
    "Both lists and strings support slicing, which allows you to extract a portion (subsequence) of the original sequence by specifying start and end indices."
   ]
  },
  {
   "cell_type": "code",
   "execution_count": null,
   "id": "4d1d0bd7",
   "metadata": {},
   "outputs": [],
   "source": [
    "Example of list slicing:"
   ]
  },
  {
   "cell_type": "code",
   "execution_count": 44,
   "id": "d805677e",
   "metadata": {},
   "outputs": [],
   "source": [
    "my_list = [1, 2, 3, 4, 5]\n",
    "sliced_list = my_list[1:4]  # [2, 3, 4]\n"
   ]
  },
  {
   "cell_type": "markdown",
   "id": "f520fb1d",
   "metadata": {},
   "source": [
    "Example of string slicing:\n",
    "\n",
    "\n",
    "my_string = \"Hello, World!\"\n",
    "sliced_string = my_string[7:12]  # \"World\"\n",
    "Iteration:\n",
    "You can iterate over both lists and strings using loops, such as for loops, to process each element/character one by one.\n",
    "\n",
    "Example of iterating over a list:\n",
    "\n",
    "\n",
    "\n",
    "my_list = [1, 2, 3, 4, 5]\n",
    "for num in my_list:\n",
    "    print(num)\n",
    "Example of iterating over a string:\n",
    "\n",
    "\n",
    "\n",
    "my_string = \"Hello\"\n",
    "for char in my_string:\n",
    "    print(char)\n",
    "Length:\n",
    "You can use the len() function to determine the number of elements in a list and the number of characters in a string.\n",
    "\n",
    "Example of finding the length of a list:\n",
    "\n",
    "\n",
    "my_list = [1, 2, 3, 4, 5]\n",
    "length_of_list = len(my_list)  # 5\n",
    "Example of finding the length of a string:\n",
    "\n",
    "\n",
    "my_string = \"Hello\"\n",
    "length_of_string = len(my_string)  # 5\n",
    "However, it's important to note that lists and strings are different data types, and they have distinct behaviors and functionalities. Lists are mutable, meaning you can modify them (add, remove, or change elements), while strings are immutable, meaning their characters cannot be changed after creation. Understanding these differences is crucial for using them effectively in your Python programs.\n",
    "\n",
    "\n",
    "\n",
    "\n"
   ]
  },
  {
   "cell_type": "markdown",
   "id": "d34781d8",
   "metadata": {},
   "source": [
    "13. What&#39;s the difference between tuples and lists?"
   ]
  },
  {
   "cell_type": "markdown",
   "id": "35108f5d",
   "metadata": {},
   "source": [
    "Tuples and lists are both data structures in Python used to store collections of items, but they have some key differences in terms of mutability, syntax, and use cases:\n",
    "\n",
    "Mutability:\n",
    "\n",
    "Lists: Lists are mutable, meaning you can change, add, or remove elements after the list is created. You can modify the elements, extend the list, or delete items from it.\n",
    "Tuples: Tuples are immutable, meaning once a tuple is created, you cannot change its elements or their order. Once a tuple is defined, its elements remain fixed and cannot be modified.\n",
    "Syntax:\n",
    "\n",
    "Lists: Lists are created using square brackets []. Elements in a list are separated by commas.\n",
    "Tuples: Tuples are created using parentheses (). Elements in a tuple are also separated by commas.\n",
    "Use Cases:\n",
    "\n",
    "Lists: Lists are commonly used when you need a dynamic collection of elements that can be modified or extended over time. Lists are suitable for situations where you need to perform operations like appending, removing, or changing elements.\n",
    "Tuples: Tuples are used when you want an immutable collection of elements. They are ideal for situations where you want to ensure that the data remains constant and cannot be accidentally modified. Tuples are often used for returning multiple values from a function or as keys in dictionaries, where immutability is required.\n",
    "Performance:\n",
    "\n",
    "Lists: Lists have slightly more overhead than tuples due to their mutability. When you modify a list, it may need to resize or allocate new memory, which can make list operations marginally slower than tuple operations.\n",
    "Tuples: Tuples are more memory-efficient and faster than lists for certain operations, especially when you have a fixed collection of items that don't need to be changed.\n",
    "Examples:"
   ]
  },
  {
   "cell_type": "code",
   "execution_count": 46,
   "id": "65bde247",
   "metadata": {},
   "outputs": [
    {
     "name": "stdout",
     "output_type": "stream",
     "text": [
      "[10, 2, 3]\n"
     ]
    }
   ],
   "source": [
    "# List example\n",
    "my_list = [1, 2, 3]\n",
    "my_list[0] = 10\n",
    "print(my_list)  # Output: [10, 2, 3]\n"
   ]
  },
  {
   "cell_type": "code",
   "execution_count": 47,
   "id": "e5188815",
   "metadata": {},
   "outputs": [],
   "source": [
    "# Tuple example\n",
    "my_tuple = (1, 2, 3)\n",
    "# my_tuple[0] = 10  # This will raise an error since tuples are immutable"
   ]
  },
  {
   "cell_type": "code",
   "execution_count": 48,
   "id": "7d4c206b",
   "metadata": {},
   "outputs": [
    {
     "data": {
      "text/plain": [
       "(1, 2, 3)"
      ]
     },
     "execution_count": 48,
     "metadata": {},
     "output_type": "execute_result"
    }
   ],
   "source": [
    "my_tuple"
   ]
  },
  {
   "cell_type": "markdown",
   "id": "c42dd45b",
   "metadata": {},
   "source": [
    "In summary, the main differences between tuples and lists are their mutability and syntax. Lists are mutable, created with [], and used for dynamic collections, while tuples are immutable, created with (), and used for fixed collections of data."
   ]
  },
  {
   "cell_type": "code",
   "execution_count": null,
   "id": "6d2c9f2b",
   "metadata": {},
   "outputs": [],
   "source": [
    "14. How do you type a tuple value that only contains the integer 42?"
   ]
  },
  {
   "cell_type": "markdown",
   "id": "268a0642",
   "metadata": {},
   "source": [
    "\n",
    "To create a tuple value that contains the integer 42, you can use parentheses () with the integer 42 inside them. Since tuples can hold a single element, you need to include a comma , after the element to explicitly indicate that it's a tuple."
   ]
  },
  {
   "cell_type": "code",
   "execution_count": 49,
   "id": "8f06b182",
   "metadata": {},
   "outputs": [],
   "source": [
    "# Incorrect way without the comma (this will not create a tuple)\n",
    "my_tuple = (42)"
   ]
  },
  {
   "cell_type": "code",
   "execution_count": 50,
   "id": "047714ff",
   "metadata": {},
   "outputs": [
    {
     "data": {
      "text/plain": [
       "42"
      ]
     },
     "execution_count": 50,
     "metadata": {},
     "output_type": "execute_result"
    }
   ],
   "source": [
    "my_tuple"
   ]
  },
  {
   "cell_type": "code",
   "execution_count": 51,
   "id": "f9b99e68",
   "metadata": {},
   "outputs": [
    {
     "data": {
      "text/plain": [
       "int"
      ]
     },
     "execution_count": 51,
     "metadata": {},
     "output_type": "execute_result"
    }
   ],
   "source": [
    "type(my_tuple)"
   ]
  },
  {
   "cell_type": "code",
   "execution_count": 52,
   "id": "95a8e0b0",
   "metadata": {},
   "outputs": [],
   "source": [
    "# Correct way with the comma (creates a tuple)\n",
    "my_tuple = (42,)"
   ]
  },
  {
   "cell_type": "code",
   "execution_count": 53,
   "id": "9a056fb5",
   "metadata": {},
   "outputs": [
    {
     "data": {
      "text/plain": [
       "(42,)"
      ]
     },
     "execution_count": 53,
     "metadata": {},
     "output_type": "execute_result"
    }
   ],
   "source": [
    "my_tuple"
   ]
  },
  {
   "cell_type": "code",
   "execution_count": 54,
   "id": "a2901a98",
   "metadata": {},
   "outputs": [
    {
     "data": {
      "text/plain": [
       "tuple"
      ]
     },
     "execution_count": 54,
     "metadata": {},
     "output_type": "execute_result"
    }
   ],
   "source": [
    "type(my_tuple)"
   ]
  },
  {
   "cell_type": "markdown",
   "id": "16e3d4e2",
   "metadata": {},
   "source": [
    "By adding the comma, you ensure that you have a tuple with a single element, which is the integer 42.\n"
   ]
  },
  {
   "cell_type": "markdown",
   "id": "fd6b23bb",
   "metadata": {},
   "source": [
    "15. How do you get a list value&#39;s tuple form? How do you get a tuple value&#39;s list form?"
   ]
  },
  {
   "cell_type": "markdown",
   "id": "45202ae8",
   "metadata": {},
   "source": [
    "To convert a list value to its tuple form, you can use the tuple() constructor. It takes the list as an argument and returns a tuple containing the same elements in the same order."
   ]
  },
  {
   "cell_type": "code",
   "execution_count": 55,
   "id": "1ff3f2b0",
   "metadata": {},
   "outputs": [
    {
     "name": "stdout",
     "output_type": "stream",
     "text": [
      "(1, 2, 3, 4, 5)\n"
     ]
    }
   ],
   "source": [
    "my_list = [1, 2, 3, 4, 5]\n",
    "my_tuple = tuple(my_list)\n",
    "print(my_tuple)  # Output: (1, 2, 3, 4, 5)\n"
   ]
  },
  {
   "cell_type": "markdown",
   "id": "6f452a14",
   "metadata": {},
   "source": [
    "In this example, my_list is a list with five elements. The tuple() constructor is used to convert my_list to a tuple, and the result is (1, 2, 3, 4, 5)."
   ]
  },
  {
   "cell_type": "markdown",
   "id": "fa7a1d97",
   "metadata": {},
   "source": [
    "To convert a tuple value to its list form, you can use the list() constructor. It takes the tuple as an argument and returns a list containing the same elements in the same order."
   ]
  },
  {
   "cell_type": "code",
   "execution_count": 56,
   "id": "465ad308",
   "metadata": {},
   "outputs": [
    {
     "name": "stdout",
     "output_type": "stream",
     "text": [
      "[10, 20, 30, 40, 50]\n"
     ]
    }
   ],
   "source": [
    "my_tuple = (10, 20, 30, 40, 50)\n",
    "my_list = list(my_tuple)\n",
    "print(my_list)  # Output: [10, 20, 30, 40, 50]\n"
   ]
  },
  {
   "cell_type": "markdown",
   "id": "19d946cc",
   "metadata": {},
   "source": [
    "In this example, my_tuple is a tuple with five elements. The list() constructor is used to convert my_tuple to a list, and the result is [10, 20, 30, 40, 50].\n",
    "\n",
    "Using the tuple() constructor, you can convert a list to a tuple, and using the list() constructor, you can convert a tuple to a list. These conversions can be useful when you need to change the data structure or pass the elements to functions that expect a different type of collection."
   ]
  },
  {
   "cell_type": "markdown",
   "id": "801659be",
   "metadata": {},
   "source": [
    "16. Variables that &quot;contain&quot; list values are not necessarily lists themselves. Instead, what do they contain?"
   ]
  },
  {
   "cell_type": "markdown",
   "id": "0bb4506a",
   "metadata": {},
   "source": [
    "In Python, variables that \"contain\" list values are not lists themselves; instead, they contain references or pointers to the list objects. This concept applies not only to lists but also to other mutable data structures like dictionaries and sets.\n",
    "\n",
    "When you create a list and assign it to a variable, the variable stores the memory address where the list is stored in the computer's memory, rather than holding the list data directly.\n",
    "\n",
    "Consider the following example:\n",
    "\n",
    "\n",
    "my_list = [1, 2, 3]\n",
    "In this example, my_list is a variable that contains a reference to the list [1, 2, 3]. The actual list data is stored in memory, and my_list holds the address of that memory location.\n",
    "\n",
    "This distinction is important because it affects how variables behave when they are assigned to other variables or passed to functions. When you assign a list variable to a new variable or pass it to a function, you are copying the reference, not duplicating the list data. As a result, both variables will refer to the same underlying list object in memory.\n",
    "\n",
    "Consider the following code:\n",
    "\n",
    "\n",
    "list1 = [1, 2, 3]\n",
    "list2 = list1\n",
    "\n",
    "list2.append(4)\n",
    "\n",
    "print(list1)  # Output: [1, 2, 3, 4]\n",
    "print(list2)  # Output: [1, 2, 3, 4]\n",
    "In this example, list2 is assigned the reference of list1. When we modify list2 by appending 4, it affects list1 as well because both variables point to the same list object.\n",
    "\n",
    "Understanding this behavior is essential when working with mutable data structures to avoid unexpected side effects and make correct assignments or copies when needed. If you want to create a separate copy of a list, you should use techniques like slicing, list() constructor, or copy() method to create a new independent list."
   ]
  },
  {
   "cell_type": "code",
   "execution_count": null,
   "id": "e3f7f609",
   "metadata": {},
   "outputs": [],
   "source": []
  }
 ],
 "metadata": {
  "kernelspec": {
   "display_name": "Python 3 (ipykernel)",
   "language": "python",
   "name": "python3"
  },
  "language_info": {
   "codemirror_mode": {
    "name": "ipython",
    "version": 3
   },
   "file_extension": ".py",
   "mimetype": "text/x-python",
   "name": "python",
   "nbconvert_exporter": "python",
   "pygments_lexer": "ipython3",
   "version": "3.10.9"
  }
 },
 "nbformat": 4,
 "nbformat_minor": 5
}
