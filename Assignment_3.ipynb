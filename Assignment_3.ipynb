{
 "cells": [
  {
   "cell_type": "code",
   "execution_count": null,
   "id": "470beda7",
   "metadata": {},
   "outputs": [],
   "source": [
    "1. Why are functions advantageous to have in your programs?"
   ]
  },
  {
   "cell_type": "markdown",
   "id": "a6391557",
   "metadata": {},
   "source": [
    "Functions are advantageous to have in your programs for several reasons:\n",
    "\n",
    "Modularity and Reusability: Functions allow you to break down your code into smaller, self-contained units that perform specific tasks. This modularity makes your code easier to manage, understand, and maintain. Additionally, once you create a function to perform a particular task, you can easily reuse it in different parts of your program or in other projects, saving time and effort.\n",
    "\n",
    "Abstraction: Functions abstract away the implementation details of a specific task, providing a higher-level interface for other parts of your code to interact with. This simplifies the code for the rest of the program, as other parts don't need to know the inner workings of the function; they only need to know how to use it.\n",
    "\n",
    "Readability and Maintainability: By breaking your code into smaller, well-named functions, you make the code easier to read and understand. This helps you and other developers quickly grasp the purpose and functionality of different parts of the program. Readable code is also more maintainable since it's easier to identify and fix bugs or make changes when necessary.\n",
    "\n",
    "Code Organization: Functions help you organize your code logically. Instead of having a large monolithic block of code, you can group related tasks into separate functions, making it easier to manage and navigate your codebase.\n",
    "\n",
    "Debugging and Testing: When you encounter issues in your program, functions can act as isolated units that you can test individually. This makes debugging more manageable since you can focus on a specific function and check its inputs, outputs, and behavior independently of the rest of the program.\n",
    "\n",
    "Collaborative Development: When working in a team, functions allow different team members to work on separate parts of the program simultaneously without interfering with each other's work. By defining clear interfaces for functions, you establish a contract that helps ensure proper integration between different components.\n",
    "\n",
    "Code Reusability and Libraries: Functions are not only beneficial within your program but also in the context of libraries and APIs. Many programming languages come with standard libraries and external packages that offer a collection of useful functions for various tasks. You can leverage these libraries to speed up development and utilize well-tested and optimized code.\n",
    "\n",
    "\n",
    "\n",
    "\n",
    "\n"
   ]
  },
  {
   "cell_type": "markdown",
   "id": "daac6b25",
   "metadata": {},
   "source": [
    "2. When does the code in a function run: when it&#39;s specified or when it&#39;s called?"
   ]
  },
  {
   "cell_type": "markdown",
   "id": "28f58fc4",
   "metadata": {},
   "source": [
    "The code inside a function runs when the function is called, not when it is specified or defined. Defining a function merely creates the blueprint for the function, specifying its name, parameters, and the code that will be executed when the function is called.\n",
    "\n",
    "To execute the code inside a function, you need to call the function by its name, passing any required arguments. When the function is called, the program jumps to the function's code block, executes the statements inside it, and then returns to the point in the program where the function was called."
   ]
  },
  {
   "cell_type": "code",
   "execution_count": null,
   "id": "adefb949",
   "metadata": {},
   "outputs": [],
   "source": [
    "3. What statement creates a function?"
   ]
  },
  {
   "cell_type": "markdown",
   "id": "1b6e6104",
   "metadata": {},
   "source": [
    "In most programming languages, including Python, the statement that creates a function is typically called a \"function definition\" or a \"function declaration.\" In Python, the keyword used to define a function is def.\n",
    "\n",
    "The general syntax for creating a function in Python is as follows:"
   ]
  },
  {
   "cell_type": "code",
   "execution_count": null,
   "id": "c9de8a54",
   "metadata": {},
   "outputs": [],
   "source": [
    "def function_name(parameters):\n",
    "    # Function body (code block)\n",
    "    # Perform operations and define the behavior of the function\n",
    "    # Optionally, return a value using the return statement\n"
   ]
  },
  {
   "cell_type": "code",
   "execution_count": null,
   "id": "ebaa181c",
   "metadata": {},
   "outputs": [],
   "source": [
    "def add_numbers(a, b):\n",
    "    result = a + b\n",
    "    return result\n"
   ]
  },
  {
   "cell_type": "code",
   "execution_count": null,
   "id": "cdf37a6d",
   "metadata": {},
   "outputs": [],
   "source": [
    "4. What is the difference between a function and a function call?"
   ]
  },
  {
   "cell_type": "markdown",
   "id": "5aa49f4f",
   "metadata": {},
   "source": [
    "Function:\n",
    "A function is a self-contained block of code that performs a specific task or set of tasks. It is defined using the def keyword in most programming languages, including Python. Functions are reusable units of code that can be called from various parts of a program. They are defined with a name, optional parameters (input values), and a code block that defines the functionality of the function. Functions are essential for code modularity, reusability, and maintainability.\n",
    "\n",
    "Function Call:\n",
    "A function call is the act of invoking or executing a specific function with specific arguments (if it takes any). When you call a function, the program jumps to the function's code block, executes the statements inside it, and returns to the point where the function was called. The values passed to the function as arguments are used as input for the function's code.\n",
    "\n",
    "To call a function, you simply use the function's name followed by parentheses containing the necessary arguments (if any).\n",
    "\n"
   ]
  },
  {
   "cell_type": "code",
   "execution_count": null,
   "id": "7b29d03b",
   "metadata": {},
   "outputs": [],
   "source": [
    "5. How many global scopes are there in a Python program? How many local scopes?"
   ]
  },
  {
   "cell_type": "markdown",
   "id": "1a859562",
   "metadata": {},
   "source": [
    "In a Python program, there is only one global scope, and it is created when the program starts execution. The global scope encompasses the entire module or script, and any variables, functions, or classes defined at the top level of the script belong to this global scope.\n",
    "\n",
    "Global scope variables can be accessed and modified from any part of the script, including within functions defined in the same module.\n",
    "\n",
    "Here's an example of a global scope variable:\n",
    "\n",
    "global_var = 42\n",
    "\n",
    "def my_function():\n",
    "    print(global_var)\n",
    "\n",
    "my_function()  # Output: 42\n",
    "\n",
    "\n",
    "In this example, global_var is defined in the global scope and can be accessed inside the function my_function.\n",
    "\n",
    "\n",
    "On the other hand, there can be multiple local scopes within a Python program. A local scope is created whenever a function is called, and it exists only within the execution of that function. Any variables defined within the function are local to that function's scope and can only be accessed within the function itself.\n",
    "\n",
    "\n",
    "\n",
    "\n"
   ]
  },
  {
   "cell_type": "code",
   "execution_count": null,
   "id": "4afe1000",
   "metadata": {},
   "outputs": [],
   "source": [
    "def my_function():\n",
    "    local_var = 10\n",
    "    print(local_var)\n",
    "\n",
    "my_function()  # Output: 10\n",
    "\n",
    "# Trying to access local_var outside the function will result in an error\n",
    "# print(local_var)  # Raises NameError: name 'local_var' is not defined\n"
   ]
  },
  {
   "cell_type": "code",
   "execution_count": null,
   "id": "f68b4e29",
   "metadata": {},
   "outputs": [],
   "source": [
    "6. What happens to variables in a local scope when the function call returns?"
   ]
  },
  {
   "cell_type": "markdown",
   "id": "a42dd754",
   "metadata": {},
   "source": [
    "When a function call returns in Python, the local variables that were defined within that function's scope are destroyed. This process is known as \"variable scope lifetime.\"\n",
    "\n",
    "\n",
    "Here's what happens to local variables when a function call returns:\n",
    "\n",
    "Creation of Local Variables: When a function is called, its local variables are created and initialized with the values passed as arguments or assigned within the function.\n",
    "\n",
    "Function Execution: The function executes its code, utilizing the local variables as needed.\n",
    "\n",
    "Function Call Returns: Once the function finishes executing (either by reaching the end of the function or encountering a return statement), the function call returns to the point in the program where it was called.\n",
    "\n",
    "Destruction of Local Variables: At this point, the local variables' scope ends, and Python automatically deallocates the memory used by these variables. They are no longer accessible, and any attempt to access them will raise a NameError.\n",
    "\n",
    "Here's an example to illustrate this behavior:\n",
    "\n",
    "python\n",
    "Copy code\n",
    "def my_function():\n",
    "    local_var = 10\n",
    "    print(\"Inside function:\", local_var)\n",
    "\n",
    "my_function()  # Output: Inside function: 10\n",
    "\n",
    "# Trying to access local_var outside the function will result in an error\n",
    "# print(\"Outside function:\", local_var)  # Raises NameError: name 'local_var' is not defined\n",
    "In this example, local_var is a local variable within the scope of my_function. It is created when the function is called, and it holds the value 10 during the execution of the function. However, once the function returns, the local variable is destroyed, and any attempt to access it outside the function will result in a NameError.\n",
    "\n",
    "It's essential to understand variable scoping in Python to avoid unexpected behavior and to ensure that variables are used in the appropriate scope for proper program functionality.\n",
    "\n",
    "\n",
    "\n",
    "\n",
    "\n"
   ]
  },
  {
   "cell_type": "code",
   "execution_count": null,
   "id": "08008a61",
   "metadata": {},
   "outputs": [],
   "source": [
    "7. What is the concept of a return value? Is it possible to have a return value in an expression?"
   ]
  },
  {
   "cell_type": "markdown",
   "id": "b16f34d8",
   "metadata": {},
   "source": [
    "In Python, the return statement is used to specify the return value of a function. If a function doesn't have a return statement or it reaches the end of the function without encountering a return statement, it automatically returns None.\n",
    "\n",
    "Here's an example of a function with a return value:\n",
    "\n",
    "def add_numbers(a, b):\n",
    "    result = a + b\n",
    "    return result\n",
    "\n",
    "sum_result = add_numbers(5, 7)\n",
    "print(sum_result)  # Output: 12\n",
    "\n",
    "\n",
    "In this example, the add_numbers function takes two arguments a and b, calculates their sum, and returns the result. The returned value is assigned to the variable sum_result, and we can then use it in expressions or other parts of the code.\n",
    "\n",
    "\n",
    "\n",
    "Yes, it is possible to have a return value in an expression. Since functions can return values, you can use those returned values directly in expressions without first assigning them to variables. For example:\n",
    "\n",
    "\n",
    "def multiply_numbers(a, b):\n",
    "    return a * b\n",
    "\n",
    "result = multiply_numbers(3, 4) + 5\n",
    "print(result)  # Output: 17\n",
    "\n",
    "\n",
    "In this example, the function multiply_numbers returns the product of a and b. We then use this return value in the expression multiply_numbers(3, 4) + 5, which evaluates to 12 + 5, resulting in the final value of 17.\n",
    "\n",
    "Using return values in expressions can be very useful to directly manipulate or combine the results of different function calls within your code.\n"
   ]
  },
  {
   "cell_type": "code",
   "execution_count": null,
   "id": "1e19fa1c",
   "metadata": {},
   "outputs": [],
   "source": [
    "8. If a function does not have a return statement, what is the return value of a call to that function?"
   ]
  },
  {
   "cell_type": "markdown",
   "id": "535f117c",
   "metadata": {},
   "source": [
    "\n",
    "If a function does not have a return statement, the return value of a call to that function is None. In Python, when a function reaches the end of its code without encountering any explicit return statement, it automatically returns None by default.\n",
    "\n",
    "Here's an example to illustrate this behavior:\n",
    "\n",
    "def no_return_function():\n",
    "    print(\"This function does not have a return statement.\")\n",
    "\n",
    "result = no_return_function()\n",
    "print(result)  # Output: None\n",
    "\n",
    "\n",
    "In this example, the function no_return_function does not have a return statement. When we call this function, it executes its code and prints the message but does not return any value explicitly. As a result, the variable result is assigned the value None.\n",
    "\n",
    "It's essential to be mindful of this behavior when calling functions without return statements. If you intend to use the result of a function call in further calculations or expressions, ensure that the function returns the desired value. If you need to return a value from the function, make sure to use a return statement with the appropriate expression or value to be returned.\n",
    "\n",
    "\n",
    "\n",
    "\n"
   ]
  },
  {
   "cell_type": "code",
   "execution_count": null,
   "id": "1cda3caf",
   "metadata": {},
   "outputs": [],
   "source": [
    "9. How do you make a function variable refer to the global variable?"
   ]
  },
  {
   "cell_type": "markdown",
   "id": "ba04c1ff",
   "metadata": {},
   "source": [
    "\n",
    "To make a function variable refer to a global variable in Python, you can use the global keyword within the function. The global keyword allows you to indicate that a variable inside the function is referring to the global variable with the same name, rather than creating a new local variable.\n",
    "\n",
    "Here's how you can use the global keyword:\n",
    "\n",
    "\n",
    "global_var = 42  # Global variable\n",
    "\n",
    "def my_function():\n",
    "    global global_var  # Declare global_var as global inside the function\n",
    "    global_var = 10    # Assign a new value to the global variable\n",
    "\n",
    "my_function()\n",
    "print(global_var)  # Output: 10\n",
    "\n",
    "\n",
    "In this example, we have a global variable global_var with an initial value of 42. Inside the function my_function, we use the global keyword before the variable name global_var. This tells Python that we are referring to the global variable, not creating a new local variable with the same name. As a result, when the function is called, the global variable global_var is modified to have a new value of 10."
   ]
  },
  {
   "cell_type": "code",
   "execution_count": null,
   "id": "acd97495",
   "metadata": {},
   "outputs": [],
   "source": [
    "10. What is the data type of None?"
   ]
  },
  {
   "cell_type": "markdown",
   "id": "0ececd5e",
   "metadata": {},
   "source": [
    "In Python, None is a special constant that represents the absence of a value or a null value. It is often used to indicate that a variable or a function does not have a meaningful value or to initialize a variable before assigning an actual value to it.\n",
    "\n",
    "The data type of None is actually its own type, called NoneType. In Python, you can check the type of a variable or a value using the built-in type() function. Here's an example:\n",
    "\n",
    "\n",
    "my_variable = None\n",
    "\n",
    "print(type(my_variable))  # Output: <class 'NoneType'>\n"
   ]
  },
  {
   "cell_type": "code",
   "execution_count": null,
   "id": "2110927f",
   "metadata": {},
   "outputs": [],
   "source": [
    "11. What does the sentence import areallyourpetsnamederic do?"
   ]
  },
  {
   "cell_type": "markdown",
   "id": "3eac5999",
   "metadata": {},
   "source": [
    "The sentence \"import areallyourpetsnamederic\" is not a valid Python statement. It appears to be a nonsensical phrase with no meaning in the context of Python programming.\n",
    "\n",
    "In Python, the import statement is used to bring modules or libraries into your code so that you can use their functions, classes, or variables. For example:\n",
    "    \n",
    "\n",
    "import math  # Import the math module\n",
    "\n",
    "# Now you can use functions from the math module, such as math.sqrt() or math.cos()\n",
    "\n",
    "\n",
    "However, \"areallyourpetsnamederic\" is not a valid Python module or library name, and it doesn't serve any specific purpose in Python programming. It would raise a ModuleNotFoundError if you attempted to execute it as a Python statement.\n",
    "\n",
    "When writing Python code, you should use valid and meaningful module names when using the import statement to bring in external functionality. Avoid using phrases like \"areallyourpetsnamederic,\" as they have no relation to actual Python code and may cause confusion for yourself and other developers.\n",
    "\n",
    "\n",
    "\n",
    "\n",
    "\n",
    "\n",
    "\n",
    "    "
   ]
  },
  {
   "cell_type": "code",
   "execution_count": null,
   "id": "1e7ccbbb",
   "metadata": {},
   "outputs": [],
   "source": [
    "12. If you had a bacon() feature in a spam module, what would you call it after importing spam?"
   ]
  },
  {
   "cell_type": "markdown",
   "id": "c0b62d79",
   "metadata": {},
   "source": [
    "After importing the spam module, you can call the bacon() function using the following syntax:\n",
    "\n",
    "\n",
    "import spam\n",
    "\n",
    "spam.bacon()\n",
    "\n",
    "\n",
    "In this example, assuming the spam module contains a bacon() function, the code will import the spam module and then call the bacon() function using the spam.bacon() syntax. This allows you to access and use the bacon() function from the spam module in your code.\n",
    "    \n",
    "    "
   ]
  },
  {
   "cell_type": "code",
   "execution_count": null,
   "id": "89eed011",
   "metadata": {},
   "outputs": [],
   "source": [
    "13. What can you do to save a programme from crashing if it encounters an error?"
   ]
  },
  {
   "cell_type": "markdown",
   "id": "8bb70a69",
   "metadata": {},
   "source": [
    "To prevent a program from crashing when it encounters an error, you can use error handling techniques to gracefully handle exceptions. In Python, this is achieved using the try, except, and optionally finally blocks.\n",
    "\n",
    "The basic idea is to wrap the code that might raise an exception inside a try block, and then define how to handle the exception in the corresponding except block. By doing this, if an exception occurs within the try block, the program will not terminate abruptly but will execute the code inside the except block to handle the error appropriately.\n",
    "\n",
    "Here's the general structure of a try-except block in Python:\n",
    "\n",
    "python\n",
    "Copy code\n",
    "try:\n",
    "    # Code that might raise an exception\n",
    "    # ...\n",
    "except SomeExceptionType:\n",
    "    # Code to handle the exception\n",
    "    # ...\n",
    "For example, let's say you have a division operation that might raise a ZeroDivisionError. You can handle it gracefully as follows:\n",
    "\n",
    "python\n",
    "Copy code\n",
    "def divide(a, b):\n",
    "    try:\n",
    "        result = a / b\n",
    "        return result\n",
    "    except ZeroDivisionError:\n",
    "        print(\"Error: Cannot divide by zero.\")\n",
    "        return None\n",
    "\n",
    "numerator = 10\n",
    "denominator = 0\n",
    "\n",
    "result = divide(numerator, denominator)\n",
    "\n",
    "if result is not None:\n",
    "    print(\"Result:\", result)\n",
    "In this example, if the denominator is set to 0, the function divide() will raise a ZeroDivisionError. However, we use a try-except block to catch this error, print a user-friendly message, and return None to indicate that the division was not successful. The program will continue executing after handling the exception.\n",
    "\n",
    "By using error handling techniques like this, you can make your program more robust and prevent it from crashing due to unexpected errors. You can customize the error handling based on the specific exceptions you expect to encounter and take appropriate actions to recover from them or gracefully exit the program if needed."
   ]
  },
  {
   "cell_type": "code",
   "execution_count": null,
   "id": "c6952eaf",
   "metadata": {},
   "outputs": [],
   "source": [
    "14. What is the purpose of the try clause? What is the purpose of the except clause?"
   ]
  },
  {
   "cell_type": "code",
   "execution_count": null,
   "id": "1557f221",
   "metadata": {},
   "outputs": [],
   "source": [
    "The try and except clauses in Python are used for error handling, allowing you to gracefully handle exceptions that may occur during the execution of a block of code.\n",
    "\n",
    "Purpose of the try Clause:\n",
    "The try clause is used to enclose a block of code where you expect an exception might occur. It is the section of code that you want to protect from causing the program to crash due to an error. When an exception occurs within the try block, the program will stop executing that block and immediately jump to the corresponding except block (if available).\n",
    "\n",
    "If no exception occurs within the try block, the except block is skipped, and the program continues executing the code following the try-except construct.\n",
    "\n",
    "Here's the general structure of a try block:\n",
    "\n",
    "python\n",
    "Copy code\n",
    "try:\n",
    "    # Code that might raise an exception\n",
    "    # ...\n",
    "Purpose of the except Clause:\n",
    "The except clause is used to define how the program should handle specific types of exceptions that occur within the try block. It specifies the code that should be executed when a particular exception is raised.\n",
    "\n",
    "When an exception occurs within the try block, the program looks for an appropriate except block that matches the type of the exception raised. If a matching except block is found, the code inside that block is executed to handle the exception. If no matching except block is found, the program terminates with an unhandled exception error.\n",
    "\n",
    "Here's the general structure of an except block:\n",
    "\n",
    "python\n",
    "Copy code\n",
    "except SomeExceptionType:\n",
    "    # Code to handle the exception\n",
    "    # ...\n",
    "SomeExceptionType is the specific type of exception you want to handle. For example, you can use except ZeroDivisionError to handle division by zero errors or except FileNotFoundError to handle file not found errors.\n",
    "\n",
    "In summary, the try clause allows you to protect a block of code that might raise exceptions, and the except clause defines how the program should handle those exceptions when they occur. Together, they provide a mechanism for controlled error handling, helping you make your programs more robust and preventing them from crashing due to unexpected errors."
   ]
  }
 ],
 "metadata": {
  "kernelspec": {
   "display_name": "Python 3 (ipykernel)",
   "language": "python",
   "name": "python3"
  },
  "language_info": {
   "codemirror_mode": {
    "name": "ipython",
    "version": 3
   },
   "file_extension": ".py",
   "mimetype": "text/x-python",
   "name": "python",
   "nbconvert_exporter": "python",
   "pygments_lexer": "ipython3",
   "version": "3.10.9"
  }
 },
 "nbformat": 4,
 "nbformat_minor": 5
}
